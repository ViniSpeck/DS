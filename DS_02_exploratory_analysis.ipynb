{
  "nbformat": 4,
  "nbformat_minor": 0,
  "metadata": {
    "colab": {
      "name": "DS-02-exploratory_analysis.ipynb",
      "provenance": [],
      "authorship_tag": "ABX9TyMfSEFYxl5L8WufdNVTpgnE",
      "include_colab_link": true
    },
    "kernelspec": {
      "name": "python3",
      "display_name": "Python 3"
    },
    "language_info": {
      "name": "python"
    }
  },
  "cells": [
    {
      "cell_type": "markdown",
      "metadata": {
        "id": "view-in-github",
        "colab_type": "text"
      },
      "source": [
        "<a href=\"https://colab.research.google.com/github/ViniSpeck/DS/blob/main/DS_02_exploratory_analysis.ipynb\" target=\"_parent\"><img src=\"https://colab.research.google.com/assets/colab-badge.svg\" alt=\"Open In Colab\"/></a>"
      ]
    },
    {
      "cell_type": "markdown",
      "source": [
        "#Introductory Study\n",
        "\n",
        "We'll start with an **exploratory analysis** on Airbnb data for Rio de Janeiro.\n",
        "\n",
        "Data will be obtained from the InsideAirbnb website - http://insideairbnb.com/get-the-data/\n"
      ],
      "metadata": {
        "id": "0xw_ZqWUzvWS"
      }
    },
    {
      "cell_type": "code",
      "execution_count": 1,
      "metadata": {
        "id": "7m5jRYtCzDFW"
      },
      "outputs": [],
      "source": [
        "#Pandas: Numerical tables and time series analysis and manipulation\n",
        "import pandas as pd\n",
        "\n",
        "#Matplotlib: Visualize data through graphics\n",
        "import matplotlib.pyplot as plt\n",
        "\n",
        "#Seaborn: Better graphics\n",
        "import seaborn as sns\n",
        "\n",
        "#SciPy: NumPy with extra scientific utility\n",
        "from scipy import stats\n",
        "\n",
        "#Determines graphics will be shown in the cell after the code\n",
        "%matplotlib inline\n",
        "\n",
        "#Load Airbnb's dataset\n",
        "df=pd.read_csv(\"http://data.insideairbnb.com/brazil/rj/rio-de-janeiro/2022-06-20/visualisations/listings.csv\")\n",
        "\n"
      ]
    },
    {
      "cell_type": "code",
      "source": [
        "#Show DataFrame\n",
        "df.head(15)"
      ],
      "metadata": {
        "id": "zlvNOjSv8lHT",
        "colab": {
          "base_uri": "https://localhost:8080/",
          "height": 1000
        },
        "outputId": "1064f147-cab8-4935-c319-1642281daa7e"
      },
      "execution_count": 2,
      "outputs": [
        {
          "output_type": "execute_result",
          "data": {
            "text/plain": [
              "                    id                                               name  \\\n",
              "0                17878  Very Nice 2Br in Copacabana w. balcony, fast WiFi   \n",
              "1   556930647599893392   Venha passar uma pernoite em um veleiro na Urca!   \n",
              "2              1174007                  100% Best View In Copa In Suite 2   \n",
              "3              8410797  Ipanema(Arpoador) 100mdo Mar/ Jan & Carnaval +Fev   \n",
              "4             28053241     Navegar a  Bordo de um Veleiro Francês no Rio!   \n",
              "5               249616                Flat at Barra Near by WINDSOR HOTEL   \n",
              "6               249842               Copacabana, central e perto da praia   \n",
              "7                24480   Nice and cozy near Ipanema Beach, w/ home office   \n",
              "8               251701                      LEBLON BEACHFRONT VILLA APT.2   \n",
              "9               251868                         Great & comfy studio Copa!   \n",
              "10            32539051                       APART-HOTEL VIEIRA SOUTO 510   \n",
              "11               25026          Beautiful Modern Decorated Studio in Copa   \n",
              "12            14883302                    Flat no melhor local de Ipanema   \n",
              "13              256323                Garden Studio - Home away from Home   \n",
              "14               35764    COPACABANA SEA BREEZE  -  RIO - 25  X Superhost   \n",
              "\n",
              "      host_id                 host_name  neighbourhood_group    neighbourhood  \\\n",
              "0       68997                  Matthias                  NaN       Copacabana   \n",
              "1   198206849                   Andréia                  NaN             Urca   \n",
              "2     3962758               Thiago Luiz                  NaN       Copacabana   \n",
              "3    42038091                    Sheila                  NaN          Ipanema   \n",
              "4   193860988                   Luciano                  NaN             Urca   \n",
              "5     1307761                      Malí                  NaN  Barra da Tijuca   \n",
              "6     1309444                     Sonia                  NaN       Copacabana   \n",
              "7       99249                      Goya                  NaN          Ipanema   \n",
              "8     1319991                      Jake                  NaN          Vidigal   \n",
              "9     1321287                    Helena                  NaN       Copacabana   \n",
              "10   66213641                     Lucia                  NaN          Ipanema   \n",
              "11     102840                   Viviane                  NaN       Copacabana   \n",
              "12   30383865                    Rafael                  NaN          Ipanema   \n",
              "13    1348172                  Jennifer                  NaN     Santa Teresa   \n",
              "14     153691  Patricia Miranda & Paulo                  NaN       Copacabana   \n",
              "\n",
              "    latitude  longitude        room_type  price  minimum_nights  \\\n",
              "0  -22.96599  -43.17940  Entire home/apt    350               5   \n",
              "1  -22.94781  -43.16351     Private room    280               1   \n",
              "2  -22.97277  -43.17966     Private room    107               2   \n",
              "3  -22.98871  -43.19334     Private room   1000               3   \n",
              "4  -22.95056  -43.17175     Private room   1850               2   \n",
              "5  -23.01097  -43.32266  Entire home/apt    195               3   \n",
              "6  -22.96794  -43.18969     Private room     90               2   \n",
              "7  -22.98405  -43.20189  Entire home/apt    671               3   \n",
              "8  -22.99037  -43.23115  Entire home/apt    516               7   \n",
              "9  -22.97920  -43.19010  Entire home/apt    120               4   \n",
              "10 -22.98737  -43.20967  Entire home/apt   1500               2   \n",
              "11 -22.97735  -43.19105  Entire home/apt    188               4   \n",
              "12 -22.98745  -43.20388  Entire home/apt    950               3   \n",
              "13 -22.91742  -43.18330  Entire home/apt    169               3   \n",
              "14 -22.98107  -43.19136  Entire home/apt    180               3   \n",
              "\n",
              "    number_of_reviews last_review  reviews_per_month  \\\n",
              "0                 272  2022-04-23               1.87   \n",
              "1                   1  2022-02-19               0.25   \n",
              "2                 177  2022-06-07               1.69   \n",
              "3                   1  2017-09-28               0.02   \n",
              "4                   0         NaN                NaN   \n",
              "5                 220  2020-04-20               1.73   \n",
              "6                 140  2022-04-08               1.12   \n",
              "7                  85  2018-02-14               0.59   \n",
              "8                  27  2019-11-13               0.21   \n",
              "9                  85  2022-03-01               0.66   \n",
              "10                  6  2022-03-07               0.15   \n",
              "11                248  2022-03-15               1.69   \n",
              "12                  4  2019-07-09               0.06   \n",
              "13                203  2022-05-30               1.63   \n",
              "14                398  2022-06-18               2.79   \n",
              "\n",
              "    calculated_host_listings_count  availability_365  number_of_reviews_ltm  \\\n",
              "0                                1               311                      8   \n",
              "1                                1               365                      1   \n",
              "2                                6               357                     29   \n",
              "3                                3               362                      0   \n",
              "4                                1               180                      0   \n",
              "5                                2                24                      0   \n",
              "6                                3                 6                     14   \n",
              "7                                1               281                      0   \n",
              "8                               11               365                      0   \n",
              "9                                2                68                      2   \n",
              "10                               1               364                      3   \n",
              "11                               1               133                     10   \n",
              "12                               1                81                      0   \n",
              "13                               1               119                     18   \n",
              "14                               1                53                     37   \n",
              "\n",
              "    license  \n",
              "0       NaN  \n",
              "1       NaN  \n",
              "2       NaN  \n",
              "3       NaN  \n",
              "4       NaN  \n",
              "5       NaN  \n",
              "6       NaN  \n",
              "7       NaN  \n",
              "8       NaN  \n",
              "9       NaN  \n",
              "10      NaN  \n",
              "11      NaN  \n",
              "12      NaN  \n",
              "13      NaN  \n",
              "14      NaN  "
            ],
            "text/html": [
              "\n",
              "  <div id=\"df-1d2bd0d1-35d2-4db2-ab88-5ea5ddc82ceb\">\n",
              "    <div class=\"colab-df-container\">\n",
              "      <div>\n",
              "<style scoped>\n",
              "    .dataframe tbody tr th:only-of-type {\n",
              "        vertical-align: middle;\n",
              "    }\n",
              "\n",
              "    .dataframe tbody tr th {\n",
              "        vertical-align: top;\n",
              "    }\n",
              "\n",
              "    .dataframe thead th {\n",
              "        text-align: right;\n",
              "    }\n",
              "</style>\n",
              "<table border=\"1\" class=\"dataframe\">\n",
              "  <thead>\n",
              "    <tr style=\"text-align: right;\">\n",
              "      <th></th>\n",
              "      <th>id</th>\n",
              "      <th>name</th>\n",
              "      <th>host_id</th>\n",
              "      <th>host_name</th>\n",
              "      <th>neighbourhood_group</th>\n",
              "      <th>neighbourhood</th>\n",
              "      <th>latitude</th>\n",
              "      <th>longitude</th>\n",
              "      <th>room_type</th>\n",
              "      <th>price</th>\n",
              "      <th>minimum_nights</th>\n",
              "      <th>number_of_reviews</th>\n",
              "      <th>last_review</th>\n",
              "      <th>reviews_per_month</th>\n",
              "      <th>calculated_host_listings_count</th>\n",
              "      <th>availability_365</th>\n",
              "      <th>number_of_reviews_ltm</th>\n",
              "      <th>license</th>\n",
              "    </tr>\n",
              "  </thead>\n",
              "  <tbody>\n",
              "    <tr>\n",
              "      <th>0</th>\n",
              "      <td>17878</td>\n",
              "      <td>Very Nice 2Br in Copacabana w. balcony, fast WiFi</td>\n",
              "      <td>68997</td>\n",
              "      <td>Matthias</td>\n",
              "      <td>NaN</td>\n",
              "      <td>Copacabana</td>\n",
              "      <td>-22.96599</td>\n",
              "      <td>-43.17940</td>\n",
              "      <td>Entire home/apt</td>\n",
              "      <td>350</td>\n",
              "      <td>5</td>\n",
              "      <td>272</td>\n",
              "      <td>2022-04-23</td>\n",
              "      <td>1.87</td>\n",
              "      <td>1</td>\n",
              "      <td>311</td>\n",
              "      <td>8</td>\n",
              "      <td>NaN</td>\n",
              "    </tr>\n",
              "    <tr>\n",
              "      <th>1</th>\n",
              "      <td>556930647599893392</td>\n",
              "      <td>Venha passar uma pernoite em um veleiro na Urca!</td>\n",
              "      <td>198206849</td>\n",
              "      <td>Andréia</td>\n",
              "      <td>NaN</td>\n",
              "      <td>Urca</td>\n",
              "      <td>-22.94781</td>\n",
              "      <td>-43.16351</td>\n",
              "      <td>Private room</td>\n",
              "      <td>280</td>\n",
              "      <td>1</td>\n",
              "      <td>1</td>\n",
              "      <td>2022-02-19</td>\n",
              "      <td>0.25</td>\n",
              "      <td>1</td>\n",
              "      <td>365</td>\n",
              "      <td>1</td>\n",
              "      <td>NaN</td>\n",
              "    </tr>\n",
              "    <tr>\n",
              "      <th>2</th>\n",
              "      <td>1174007</td>\n",
              "      <td>100% Best View In Copa In Suite 2</td>\n",
              "      <td>3962758</td>\n",
              "      <td>Thiago Luiz</td>\n",
              "      <td>NaN</td>\n",
              "      <td>Copacabana</td>\n",
              "      <td>-22.97277</td>\n",
              "      <td>-43.17966</td>\n",
              "      <td>Private room</td>\n",
              "      <td>107</td>\n",
              "      <td>2</td>\n",
              "      <td>177</td>\n",
              "      <td>2022-06-07</td>\n",
              "      <td>1.69</td>\n",
              "      <td>6</td>\n",
              "      <td>357</td>\n",
              "      <td>29</td>\n",
              "      <td>NaN</td>\n",
              "    </tr>\n",
              "    <tr>\n",
              "      <th>3</th>\n",
              "      <td>8410797</td>\n",
              "      <td>Ipanema(Arpoador) 100mdo Mar/ Jan &amp; Carnaval +Fev</td>\n",
              "      <td>42038091</td>\n",
              "      <td>Sheila</td>\n",
              "      <td>NaN</td>\n",
              "      <td>Ipanema</td>\n",
              "      <td>-22.98871</td>\n",
              "      <td>-43.19334</td>\n",
              "      <td>Private room</td>\n",
              "      <td>1000</td>\n",
              "      <td>3</td>\n",
              "      <td>1</td>\n",
              "      <td>2017-09-28</td>\n",
              "      <td>0.02</td>\n",
              "      <td>3</td>\n",
              "      <td>362</td>\n",
              "      <td>0</td>\n",
              "      <td>NaN</td>\n",
              "    </tr>\n",
              "    <tr>\n",
              "      <th>4</th>\n",
              "      <td>28053241</td>\n",
              "      <td>Navegar a  Bordo de um Veleiro Francês no Rio!</td>\n",
              "      <td>193860988</td>\n",
              "      <td>Luciano</td>\n",
              "      <td>NaN</td>\n",
              "      <td>Urca</td>\n",
              "      <td>-22.95056</td>\n",
              "      <td>-43.17175</td>\n",
              "      <td>Private room</td>\n",
              "      <td>1850</td>\n",
              "      <td>2</td>\n",
              "      <td>0</td>\n",
              "      <td>NaN</td>\n",
              "      <td>NaN</td>\n",
              "      <td>1</td>\n",
              "      <td>180</td>\n",
              "      <td>0</td>\n",
              "      <td>NaN</td>\n",
              "    </tr>\n",
              "    <tr>\n",
              "      <th>5</th>\n",
              "      <td>249616</td>\n",
              "      <td>Flat at Barra Near by WINDSOR HOTEL</td>\n",
              "      <td>1307761</td>\n",
              "      <td>Malí</td>\n",
              "      <td>NaN</td>\n",
              "      <td>Barra da Tijuca</td>\n",
              "      <td>-23.01097</td>\n",
              "      <td>-43.32266</td>\n",
              "      <td>Entire home/apt</td>\n",
              "      <td>195</td>\n",
              "      <td>3</td>\n",
              "      <td>220</td>\n",
              "      <td>2020-04-20</td>\n",
              "      <td>1.73</td>\n",
              "      <td>2</td>\n",
              "      <td>24</td>\n",
              "      <td>0</td>\n",
              "      <td>NaN</td>\n",
              "    </tr>\n",
              "    <tr>\n",
              "      <th>6</th>\n",
              "      <td>249842</td>\n",
              "      <td>Copacabana, central e perto da praia</td>\n",
              "      <td>1309444</td>\n",
              "      <td>Sonia</td>\n",
              "      <td>NaN</td>\n",
              "      <td>Copacabana</td>\n",
              "      <td>-22.96794</td>\n",
              "      <td>-43.18969</td>\n",
              "      <td>Private room</td>\n",
              "      <td>90</td>\n",
              "      <td>2</td>\n",
              "      <td>140</td>\n",
              "      <td>2022-04-08</td>\n",
              "      <td>1.12</td>\n",
              "      <td>3</td>\n",
              "      <td>6</td>\n",
              "      <td>14</td>\n",
              "      <td>NaN</td>\n",
              "    </tr>\n",
              "    <tr>\n",
              "      <th>7</th>\n",
              "      <td>24480</td>\n",
              "      <td>Nice and cozy near Ipanema Beach, w/ home office</td>\n",
              "      <td>99249</td>\n",
              "      <td>Goya</td>\n",
              "      <td>NaN</td>\n",
              "      <td>Ipanema</td>\n",
              "      <td>-22.98405</td>\n",
              "      <td>-43.20189</td>\n",
              "      <td>Entire home/apt</td>\n",
              "      <td>671</td>\n",
              "      <td>3</td>\n",
              "      <td>85</td>\n",
              "      <td>2018-02-14</td>\n",
              "      <td>0.59</td>\n",
              "      <td>1</td>\n",
              "      <td>281</td>\n",
              "      <td>0</td>\n",
              "      <td>NaN</td>\n",
              "    </tr>\n",
              "    <tr>\n",
              "      <th>8</th>\n",
              "      <td>251701</td>\n",
              "      <td>LEBLON BEACHFRONT VILLA APT.2</td>\n",
              "      <td>1319991</td>\n",
              "      <td>Jake</td>\n",
              "      <td>NaN</td>\n",
              "      <td>Vidigal</td>\n",
              "      <td>-22.99037</td>\n",
              "      <td>-43.23115</td>\n",
              "      <td>Entire home/apt</td>\n",
              "      <td>516</td>\n",
              "      <td>7</td>\n",
              "      <td>27</td>\n",
              "      <td>2019-11-13</td>\n",
              "      <td>0.21</td>\n",
              "      <td>11</td>\n",
              "      <td>365</td>\n",
              "      <td>0</td>\n",
              "      <td>NaN</td>\n",
              "    </tr>\n",
              "    <tr>\n",
              "      <th>9</th>\n",
              "      <td>251868</td>\n",
              "      <td>Great &amp; comfy studio Copa!</td>\n",
              "      <td>1321287</td>\n",
              "      <td>Helena</td>\n",
              "      <td>NaN</td>\n",
              "      <td>Copacabana</td>\n",
              "      <td>-22.97920</td>\n",
              "      <td>-43.19010</td>\n",
              "      <td>Entire home/apt</td>\n",
              "      <td>120</td>\n",
              "      <td>4</td>\n",
              "      <td>85</td>\n",
              "      <td>2022-03-01</td>\n",
              "      <td>0.66</td>\n",
              "      <td>2</td>\n",
              "      <td>68</td>\n",
              "      <td>2</td>\n",
              "      <td>NaN</td>\n",
              "    </tr>\n",
              "    <tr>\n",
              "      <th>10</th>\n",
              "      <td>32539051</td>\n",
              "      <td>APART-HOTEL VIEIRA SOUTO 510</td>\n",
              "      <td>66213641</td>\n",
              "      <td>Lucia</td>\n",
              "      <td>NaN</td>\n",
              "      <td>Ipanema</td>\n",
              "      <td>-22.98737</td>\n",
              "      <td>-43.20967</td>\n",
              "      <td>Entire home/apt</td>\n",
              "      <td>1500</td>\n",
              "      <td>2</td>\n",
              "      <td>6</td>\n",
              "      <td>2022-03-07</td>\n",
              "      <td>0.15</td>\n",
              "      <td>1</td>\n",
              "      <td>364</td>\n",
              "      <td>3</td>\n",
              "      <td>NaN</td>\n",
              "    </tr>\n",
              "    <tr>\n",
              "      <th>11</th>\n",
              "      <td>25026</td>\n",
              "      <td>Beautiful Modern Decorated Studio in Copa</td>\n",
              "      <td>102840</td>\n",
              "      <td>Viviane</td>\n",
              "      <td>NaN</td>\n",
              "      <td>Copacabana</td>\n",
              "      <td>-22.97735</td>\n",
              "      <td>-43.19105</td>\n",
              "      <td>Entire home/apt</td>\n",
              "      <td>188</td>\n",
              "      <td>4</td>\n",
              "      <td>248</td>\n",
              "      <td>2022-03-15</td>\n",
              "      <td>1.69</td>\n",
              "      <td>1</td>\n",
              "      <td>133</td>\n",
              "      <td>10</td>\n",
              "      <td>NaN</td>\n",
              "    </tr>\n",
              "    <tr>\n",
              "      <th>12</th>\n",
              "      <td>14883302</td>\n",
              "      <td>Flat no melhor local de Ipanema</td>\n",
              "      <td>30383865</td>\n",
              "      <td>Rafael</td>\n",
              "      <td>NaN</td>\n",
              "      <td>Ipanema</td>\n",
              "      <td>-22.98745</td>\n",
              "      <td>-43.20388</td>\n",
              "      <td>Entire home/apt</td>\n",
              "      <td>950</td>\n",
              "      <td>3</td>\n",
              "      <td>4</td>\n",
              "      <td>2019-07-09</td>\n",
              "      <td>0.06</td>\n",
              "      <td>1</td>\n",
              "      <td>81</td>\n",
              "      <td>0</td>\n",
              "      <td>NaN</td>\n",
              "    </tr>\n",
              "    <tr>\n",
              "      <th>13</th>\n",
              "      <td>256323</td>\n",
              "      <td>Garden Studio - Home away from Home</td>\n",
              "      <td>1348172</td>\n",
              "      <td>Jennifer</td>\n",
              "      <td>NaN</td>\n",
              "      <td>Santa Teresa</td>\n",
              "      <td>-22.91742</td>\n",
              "      <td>-43.18330</td>\n",
              "      <td>Entire home/apt</td>\n",
              "      <td>169</td>\n",
              "      <td>3</td>\n",
              "      <td>203</td>\n",
              "      <td>2022-05-30</td>\n",
              "      <td>1.63</td>\n",
              "      <td>1</td>\n",
              "      <td>119</td>\n",
              "      <td>18</td>\n",
              "      <td>NaN</td>\n",
              "    </tr>\n",
              "    <tr>\n",
              "      <th>14</th>\n",
              "      <td>35764</td>\n",
              "      <td>COPACABANA SEA BREEZE  -  RIO - 25  X Superhost</td>\n",
              "      <td>153691</td>\n",
              "      <td>Patricia Miranda &amp; Paulo</td>\n",
              "      <td>NaN</td>\n",
              "      <td>Copacabana</td>\n",
              "      <td>-22.98107</td>\n",
              "      <td>-43.19136</td>\n",
              "      <td>Entire home/apt</td>\n",
              "      <td>180</td>\n",
              "      <td>3</td>\n",
              "      <td>398</td>\n",
              "      <td>2022-06-18</td>\n",
              "      <td>2.79</td>\n",
              "      <td>1</td>\n",
              "      <td>53</td>\n",
              "      <td>37</td>\n",
              "      <td>NaN</td>\n",
              "    </tr>\n",
              "  </tbody>\n",
              "</table>\n",
              "</div>\n",
              "      <button class=\"colab-df-convert\" onclick=\"convertToInteractive('df-1d2bd0d1-35d2-4db2-ab88-5ea5ddc82ceb')\"\n",
              "              title=\"Convert this dataframe to an interactive table.\"\n",
              "              style=\"display:none;\">\n",
              "        \n",
              "  <svg xmlns=\"http://www.w3.org/2000/svg\" height=\"24px\"viewBox=\"0 0 24 24\"\n",
              "       width=\"24px\">\n",
              "    <path d=\"M0 0h24v24H0V0z\" fill=\"none\"/>\n",
              "    <path d=\"M18.56 5.44l.94 2.06.94-2.06 2.06-.94-2.06-.94-.94-2.06-.94 2.06-2.06.94zm-11 1L8.5 8.5l.94-2.06 2.06-.94-2.06-.94L8.5 2.5l-.94 2.06-2.06.94zm10 10l.94 2.06.94-2.06 2.06-.94-2.06-.94-.94-2.06-.94 2.06-2.06.94z\"/><path d=\"M17.41 7.96l-1.37-1.37c-.4-.4-.92-.59-1.43-.59-.52 0-1.04.2-1.43.59L10.3 9.45l-7.72 7.72c-.78.78-.78 2.05 0 2.83L4 21.41c.39.39.9.59 1.41.59.51 0 1.02-.2 1.41-.59l7.78-7.78 2.81-2.81c.8-.78.8-2.07 0-2.86zM5.41 20L4 18.59l7.72-7.72 1.47 1.35L5.41 20z\"/>\n",
              "  </svg>\n",
              "      </button>\n",
              "      \n",
              "  <style>\n",
              "    .colab-df-container {\n",
              "      display:flex;\n",
              "      flex-wrap:wrap;\n",
              "      gap: 12px;\n",
              "    }\n",
              "\n",
              "    .colab-df-convert {\n",
              "      background-color: #E8F0FE;\n",
              "      border: none;\n",
              "      border-radius: 50%;\n",
              "      cursor: pointer;\n",
              "      display: none;\n",
              "      fill: #1967D2;\n",
              "      height: 32px;\n",
              "      padding: 0 0 0 0;\n",
              "      width: 32px;\n",
              "    }\n",
              "\n",
              "    .colab-df-convert:hover {\n",
              "      background-color: #E2EBFA;\n",
              "      box-shadow: 0px 1px 2px rgba(60, 64, 67, 0.3), 0px 1px 3px 1px rgba(60, 64, 67, 0.15);\n",
              "      fill: #174EA6;\n",
              "    }\n",
              "\n",
              "    [theme=dark] .colab-df-convert {\n",
              "      background-color: #3B4455;\n",
              "      fill: #D2E3FC;\n",
              "    }\n",
              "\n",
              "    [theme=dark] .colab-df-convert:hover {\n",
              "      background-color: #434B5C;\n",
              "      box-shadow: 0px 1px 3px 1px rgba(0, 0, 0, 0.15);\n",
              "      filter: drop-shadow(0px 1px 2px rgba(0, 0, 0, 0.3));\n",
              "      fill: #FFFFFF;\n",
              "    }\n",
              "  </style>\n",
              "\n",
              "      <script>\n",
              "        const buttonEl =\n",
              "          document.querySelector('#df-1d2bd0d1-35d2-4db2-ab88-5ea5ddc82ceb button.colab-df-convert');\n",
              "        buttonEl.style.display =\n",
              "          google.colab.kernel.accessAllowed ? 'block' : 'none';\n",
              "\n",
              "        async function convertToInteractive(key) {\n",
              "          const element = document.querySelector('#df-1d2bd0d1-35d2-4db2-ab88-5ea5ddc82ceb');\n",
              "          const dataTable =\n",
              "            await google.colab.kernel.invokeFunction('convertToInteractive',\n",
              "                                                     [key], {});\n",
              "          if (!dataTable) return;\n",
              "\n",
              "          const docLinkHtml = 'Like what you see? Visit the ' +\n",
              "            '<a target=\"_blank\" href=https://colab.research.google.com/notebooks/data_table.ipynb>data table notebook</a>'\n",
              "            + ' to learn more about interactive tables.';\n",
              "          element.innerHTML = '';\n",
              "          dataTable['output_type'] = 'display_data';\n",
              "          await google.colab.output.renderOutput(dataTable, element);\n",
              "          const docLink = document.createElement('div');\n",
              "          docLink.innerHTML = docLinkHtml;\n",
              "          element.appendChild(docLink);\n",
              "        }\n",
              "      </script>\n",
              "    </div>\n",
              "  </div>\n",
              "  "
            ]
          },
          "metadata": {},
          "execution_count": 2
        }
      ]
    },
    {
      "cell_type": "markdown",
      "source": [
        "## Getting to know the DataFrame's attributes\n",
        "\n",
        "Verifying how many rows and columns exist in the DataFrame with ***shape***"
      ],
      "metadata": {
        "id": "zjOBTNuc89k1"
      }
    },
    {
      "cell_type": "code",
      "source": [
        "print(\"Inputs (Rows):\", df.shape[0])\n",
        "print(\"Variables (Columns):\", df.shape[1])"
      ],
      "metadata": {
        "colab": {
          "base_uri": "https://localhost:8080/"
        },
        "id": "k0GqqJRY88Ci",
        "outputId": "d3e0cfd6-136d-4c6d-d3b8-77f16f92ace1"
      },
      "execution_count": 3,
      "outputs": [
        {
          "output_type": "stream",
          "name": "stdout",
          "text": [
            "Inputs (Rows): 24881\n",
            "Variables (Columns): 18\n"
          ]
        }
      ]
    },
    {
      "cell_type": "markdown",
      "source": [
        "Show each column's data type with ***dtypes***\n",
        "\n",
        "(***display()***=different version of ***print()***)"
      ],
      "metadata": {
        "id": "6M6eXzih_M6_"
      }
    },
    {
      "cell_type": "code",
      "source": [
        "display(df.dtypes)"
      ],
      "metadata": {
        "id": "BE-ZLcaO_fy3",
        "colab": {
          "base_uri": "https://localhost:8080/",
          "height": 368
        },
        "outputId": "8c6970bd-3728-49a6-8e15-469edea5699a"
      },
      "execution_count": 4,
      "outputs": [
        {
          "output_type": "display_data",
          "data": {
            "text/plain": [
              "id                                  int64\n",
              "name                               object\n",
              "host_id                             int64\n",
              "host_name                          object\n",
              "neighbourhood_group               float64\n",
              "neighbourhood                      object\n",
              "latitude                          float64\n",
              "longitude                         float64\n",
              "room_type                          object\n",
              "price                               int64\n",
              "minimum_nights                      int64\n",
              "number_of_reviews                   int64\n",
              "last_review                        object\n",
              "reviews_per_month                 float64\n",
              "calculated_host_listings_count      int64\n",
              "availability_365                    int64\n",
              "number_of_reviews_ltm               int64\n",
              "license                           float64\n",
              "dtype: object"
            ]
          },
          "metadata": {}
        }
      ]
    },
    {
      "cell_type": "markdown",
      "source": [
        "Display all neighborhoods present in the DataFrame\n",
        "\n",
        "***unique()*** - Keeps one of each value, transforms into array\n",
        "\n",
        "***drop_duplicates()*** - Keeps one of each value, stays as DataFrame\n",
        "\n",
        "***sort_values()*** - Order neighborhoods alphabetically\n",
        "\n",
        "***reset_index(drop=True)*** - Recreates index for the new order and drops former indexes column"
      ],
      "metadata": {
        "id": "lkFp73otACfO"
      }
    },
    {
      "cell_type": "code",
      "source": [
        "df['neighbourhood'].drop_duplicates().sort_values().reset_index(drop=True)"
      ],
      "metadata": {
        "colab": {
          "base_uri": "https://localhost:8080/"
        },
        "id": "hRxPJ84mAK9r",
        "outputId": "9b63dcc0-173e-489c-c9a6-06e9b16ee6d9"
      },
      "execution_count": 5,
      "outputs": [
        {
          "output_type": "execute_result",
          "data": {
            "text/plain": [
              "0               Abolição\n",
              "1                  Acari\n",
              "2      Alto da Boa Vista\n",
              "3               Anchieta\n",
              "4                Andaraí\n",
              "             ...        \n",
              "148         Vila Militar\n",
              "149       Vila Valqueire\n",
              "150        Vila da Penha\n",
              "151                Zumbi\n",
              "152           Água Santa\n",
              "Name: neighbourhood, Length: 153, dtype: object"
            ]
          },
          "metadata": {},
          "execution_count": 5
        }
      ]
    },
    {
      "cell_type": "markdown",
      "source": [
        "Aggregating values"
      ],
      "metadata": {
        "id": "bXZWlSc-Fr9V"
      }
    },
    {
      "cell_type": "code",
      "source": [
        "print(\"Number of rows (total including NaNs):\",df['id'].count())\n",
        "print(\"Price sum:\",df['price'].sum())\n",
        "print(\"Price average:\",df['price'].mean())\n",
        "print(\"Lowest price:\",df['price'].min())\n",
        "print(\"Highest price:\",df['price'].max())\n",
        "print(\"Qty of null names:\", df['name'].isnull().sum())"
      ],
      "metadata": {
        "id": "RVCLOAS4Ftrl",
        "colab": {
          "base_uri": "https://localhost:8080/"
        },
        "outputId": "c6308a4d-a1c3-4cde-8042-51f310186e91"
      },
      "execution_count": 6,
      "outputs": [
        {
          "output_type": "stream",
          "name": "stdout",
          "text": [
            "Number of rows (total including NaNs): 24881\n",
            "Price sum: 18546195\n",
            "Price average: 745.3958844097906\n",
            "Lowest price: 0\n",
            "Highest price: 591723\n",
            "Qty of null names: 21\n"
          ]
        }
      ]
    },
    {
      "cell_type": "markdown",
      "source": [
        "Calculating the % of null(NaN) rows in DataFrame\n",
        "\n",
        "*(sum of null values/number of rows)* * *100* \n",
        "\n",
        "***sort_values(ascending=False)*** - Sort values descending"
      ],
      "metadata": {
        "id": "L3xx3-U4KTuT"
      }
    },
    {
      "cell_type": "code",
      "source": [
        "((df.isnull().sum()/df.shape[0])*100).sort_values(ascending=False)"
      ],
      "metadata": {
        "colab": {
          "base_uri": "https://localhost:8080/"
        },
        "id": "e_B3t_9IJ2wX",
        "outputId": "69567ce8-42f2-4476-ed6d-9d8995f224e0"
      },
      "execution_count": 7,
      "outputs": [
        {
          "output_type": "execute_result",
          "data": {
            "text/plain": [
              "license                           100.000000\n",
              "neighbourhood_group               100.000000\n",
              "reviews_per_month                  30.818697\n",
              "last_review                        30.818697\n",
              "host_name                           0.470238\n",
              "name                                0.084402\n",
              "number_of_reviews                   0.000000\n",
              "number_of_reviews_ltm               0.000000\n",
              "availability_365                    0.000000\n",
              "calculated_host_listings_count      0.000000\n",
              "id                                  0.000000\n",
              "minimum_nights                      0.000000\n",
              "room_type                           0.000000\n",
              "longitude                           0.000000\n",
              "latitude                            0.000000\n",
              "neighbourhood                       0.000000\n",
              "host_id                             0.000000\n",
              "price                               0.000000\n",
              "dtype: float64"
            ]
          },
          "metadata": {},
          "execution_count": 7
        }
      ]
    },
    {
      "cell_type": "markdown",
      "source": [
        "**Trim Mean** - Average which eliminates outliers (upper and lower percentile)"
      ],
      "metadata": {
        "id": "kXhuCNsBJABO"
      }
    },
    {
      "cell_type": "code",
      "source": [
        "stats.trim_mean(df['price'], 0.1)"
      ],
      "metadata": {
        "colab": {
          "base_uri": "https://localhost:8080/"
        },
        "id": "Jd2SR7YFHcmN",
        "outputId": "88344c03-4946-48e3-c86e-8a279921afa6"
      },
      "execution_count": 8,
      "outputs": [
        {
          "output_type": "execute_result",
          "data": {
            "text/plain": [
              "389.5202210499874"
            ]
          },
          "metadata": {},
          "execution_count": 8
        }
      ]
    },
    {
      "cell_type": "markdown",
      "source": [
        "Creating Histograms (no criteria yet)"
      ],
      "metadata": {
        "id": "-VvTEpaTMsZJ"
      }
    },
    {
      "cell_type": "code",
      "source": [
        "df.hist(bins=2,figsize=(20,30))"
      ],
      "metadata": {
        "id": "C0TVzDcHMsF8"
      },
      "execution_count": null,
      "outputs": []
    },
    {
      "cell_type": "markdown",
      "source": [
        "**Descriptive Statistics**"
      ],
      "metadata": {
        "id": "dAmiF908-gdN"
      }
    },
    {
      "cell_type": "code",
      "source": [
        "df[  ['price','minimum_nights','availability_365']  ].describe()"
      ],
      "metadata": {
        "colab": {
          "base_uri": "https://localhost:8080/",
          "height": 300
        },
        "id": "WtU_RI3s9Y8_",
        "outputId": "a175790b-ff01-4366-9fe5-6aaf73b6e1f7"
      },
      "execution_count": 15,
      "outputs": [
        {
          "output_type": "execute_result",
          "data": {
            "text/plain": [
              "               price  minimum_nights  availability_365\n",
              "count   24881.000000    24881.000000      24881.000000\n",
              "mean      745.395884        5.358426        214.774165\n",
              "std      4983.640074       26.044111        131.693681\n",
              "min         0.000000        1.000000          0.000000\n",
              "25%       180.000000        1.000000         89.000000\n",
              "50%       300.000000        2.000000        212.000000\n",
              "75%       600.000000        4.000000        356.000000\n",
              "max    591723.000000     1125.000000        365.000000"
            ],
            "text/html": [
              "\n",
              "  <div id=\"df-3b03c18a-7094-4458-a630-1e06c6036a6f\">\n",
              "    <div class=\"colab-df-container\">\n",
              "      <div>\n",
              "<style scoped>\n",
              "    .dataframe tbody tr th:only-of-type {\n",
              "        vertical-align: middle;\n",
              "    }\n",
              "\n",
              "    .dataframe tbody tr th {\n",
              "        vertical-align: top;\n",
              "    }\n",
              "\n",
              "    .dataframe thead th {\n",
              "        text-align: right;\n",
              "    }\n",
              "</style>\n",
              "<table border=\"1\" class=\"dataframe\">\n",
              "  <thead>\n",
              "    <tr style=\"text-align: right;\">\n",
              "      <th></th>\n",
              "      <th>price</th>\n",
              "      <th>minimum_nights</th>\n",
              "      <th>availability_365</th>\n",
              "    </tr>\n",
              "  </thead>\n",
              "  <tbody>\n",
              "    <tr>\n",
              "      <th>count</th>\n",
              "      <td>24881.000000</td>\n",
              "      <td>24881.000000</td>\n",
              "      <td>24881.000000</td>\n",
              "    </tr>\n",
              "    <tr>\n",
              "      <th>mean</th>\n",
              "      <td>745.395884</td>\n",
              "      <td>5.358426</td>\n",
              "      <td>214.774165</td>\n",
              "    </tr>\n",
              "    <tr>\n",
              "      <th>std</th>\n",
              "      <td>4983.640074</td>\n",
              "      <td>26.044111</td>\n",
              "      <td>131.693681</td>\n",
              "    </tr>\n",
              "    <tr>\n",
              "      <th>min</th>\n",
              "      <td>0.000000</td>\n",
              "      <td>1.000000</td>\n",
              "      <td>0.000000</td>\n",
              "    </tr>\n",
              "    <tr>\n",
              "      <th>25%</th>\n",
              "      <td>180.000000</td>\n",
              "      <td>1.000000</td>\n",
              "      <td>89.000000</td>\n",
              "    </tr>\n",
              "    <tr>\n",
              "      <th>50%</th>\n",
              "      <td>300.000000</td>\n",
              "      <td>2.000000</td>\n",
              "      <td>212.000000</td>\n",
              "    </tr>\n",
              "    <tr>\n",
              "      <th>75%</th>\n",
              "      <td>600.000000</td>\n",
              "      <td>4.000000</td>\n",
              "      <td>356.000000</td>\n",
              "    </tr>\n",
              "    <tr>\n",
              "      <th>max</th>\n",
              "      <td>591723.000000</td>\n",
              "      <td>1125.000000</td>\n",
              "      <td>365.000000</td>\n",
              "    </tr>\n",
              "  </tbody>\n",
              "</table>\n",
              "</div>\n",
              "      <button class=\"colab-df-convert\" onclick=\"convertToInteractive('df-3b03c18a-7094-4458-a630-1e06c6036a6f')\"\n",
              "              title=\"Convert this dataframe to an interactive table.\"\n",
              "              style=\"display:none;\">\n",
              "        \n",
              "  <svg xmlns=\"http://www.w3.org/2000/svg\" height=\"24px\"viewBox=\"0 0 24 24\"\n",
              "       width=\"24px\">\n",
              "    <path d=\"M0 0h24v24H0V0z\" fill=\"none\"/>\n",
              "    <path d=\"M18.56 5.44l.94 2.06.94-2.06 2.06-.94-2.06-.94-.94-2.06-.94 2.06-2.06.94zm-11 1L8.5 8.5l.94-2.06 2.06-.94-2.06-.94L8.5 2.5l-.94 2.06-2.06.94zm10 10l.94 2.06.94-2.06 2.06-.94-2.06-.94-.94-2.06-.94 2.06-2.06.94z\"/><path d=\"M17.41 7.96l-1.37-1.37c-.4-.4-.92-.59-1.43-.59-.52 0-1.04.2-1.43.59L10.3 9.45l-7.72 7.72c-.78.78-.78 2.05 0 2.83L4 21.41c.39.39.9.59 1.41.59.51 0 1.02-.2 1.41-.59l7.78-7.78 2.81-2.81c.8-.78.8-2.07 0-2.86zM5.41 20L4 18.59l7.72-7.72 1.47 1.35L5.41 20z\"/>\n",
              "  </svg>\n",
              "      </button>\n",
              "      \n",
              "  <style>\n",
              "    .colab-df-container {\n",
              "      display:flex;\n",
              "      flex-wrap:wrap;\n",
              "      gap: 12px;\n",
              "    }\n",
              "\n",
              "    .colab-df-convert {\n",
              "      background-color: #E8F0FE;\n",
              "      border: none;\n",
              "      border-radius: 50%;\n",
              "      cursor: pointer;\n",
              "      display: none;\n",
              "      fill: #1967D2;\n",
              "      height: 32px;\n",
              "      padding: 0 0 0 0;\n",
              "      width: 32px;\n",
              "    }\n",
              "\n",
              "    .colab-df-convert:hover {\n",
              "      background-color: #E2EBFA;\n",
              "      box-shadow: 0px 1px 2px rgba(60, 64, 67, 0.3), 0px 1px 3px 1px rgba(60, 64, 67, 0.15);\n",
              "      fill: #174EA6;\n",
              "    }\n",
              "\n",
              "    [theme=dark] .colab-df-convert {\n",
              "      background-color: #3B4455;\n",
              "      fill: #D2E3FC;\n",
              "    }\n",
              "\n",
              "    [theme=dark] .colab-df-convert:hover {\n",
              "      background-color: #434B5C;\n",
              "      box-shadow: 0px 1px 3px 1px rgba(0, 0, 0, 0.15);\n",
              "      filter: drop-shadow(0px 1px 2px rgba(0, 0, 0, 0.3));\n",
              "      fill: #FFFFFF;\n",
              "    }\n",
              "  </style>\n",
              "\n",
              "      <script>\n",
              "        const buttonEl =\n",
              "          document.querySelector('#df-3b03c18a-7094-4458-a630-1e06c6036a6f button.colab-df-convert');\n",
              "        buttonEl.style.display =\n",
              "          google.colab.kernel.accessAllowed ? 'block' : 'none';\n",
              "\n",
              "        async function convertToInteractive(key) {\n",
              "          const element = document.querySelector('#df-3b03c18a-7094-4458-a630-1e06c6036a6f');\n",
              "          const dataTable =\n",
              "            await google.colab.kernel.invokeFunction('convertToInteractive',\n",
              "                                                     [key], {});\n",
              "          if (!dataTable) return;\n",
              "\n",
              "          const docLinkHtml = 'Like what you see? Visit the ' +\n",
              "            '<a target=\"_blank\" href=https://colab.research.google.com/notebooks/data_table.ipynb>data table notebook</a>'\n",
              "            + ' to learn more about interactive tables.';\n",
              "          element.innerHTML = '';\n",
              "          dataTable['output_type'] = 'display_data';\n",
              "          await google.colab.output.renderOutput(dataTable, element);\n",
              "          const docLink = document.createElement('div');\n",
              "          docLink.innerHTML = docLinkHtml;\n",
              "          element.appendChild(docLink);\n",
              "        }\n",
              "      </script>\n",
              "    </div>\n",
              "  </div>\n",
              "  "
            ]
          },
          "metadata": {},
          "execution_count": 15
        }
      ]
    },
    {
      "cell_type": "markdown",
      "source": [
        "Prices' BoxPlot"
      ],
      "metadata": {
        "id": "rzhGFHUlDVvM"
      }
    },
    {
      "cell_type": "code",
      "source": [
        "df.price.plot(kind='box', vert=False, figsize=(15,3))\n",
        "plt.show()\n",
        "amount = (df.price>1500).sum()\n",
        "print(\"Number of prices above R$ 1.000,00:\", amount)\n",
        "print(\"% in total: \", (amount/df.price.count() * 100))"
      ],
      "metadata": {
        "colab": {
          "base_uri": "https://localhost:8080/",
          "height": 248
        },
        "id": "elULNla7DZt3",
        "outputId": "38ce9c84-39a7-41f1-9743-859933783767"
      },
      "execution_count": 41,
      "outputs": [
        {
          "output_type": "display_data",
          "data": {
            "text/plain": [
              "<Figure size 1080x216 with 1 Axes>"
            ],
            "image/png": "[encoded data removed]"
          },
          "metadata": {
            "needs_background": "light"
          }
        },
        {
          "output_type": "stream",
          "name": "stdout",
          "text": [
            "Number of prices above R$ 1.000,00: 1830\n",
            "% in total:  7.3550098468711065\n"
          ]
        }
      ]
    },
    {
      "cell_type": "markdown",
      "source": [
        "**Correlation Analysis**\n",
        "\n"
      ],
      "metadata": {
        "id": "U3QdwBw_JI47"
      }
    },
    {
      "cell_type": "code",
      "source": [
        "correlation = df[['price','minimum_nights','availability_365', 'number_of_reviews', 'reviews_per_month']].corr()\n",
        "print(correlation)"
      ],
      "metadata": {
        "colab": {
          "base_uri": "https://localhost:8080/"
        },
        "id": "pgSzv6RMJDMT",
        "outputId": "8e36aeac-67eb-4e7b-e5f5-c86b5a41c594"
      },
      "execution_count": 45,
      "outputs": [
        {
          "output_type": "stream",
          "name": "stdout",
          "text": [
            "                      price  minimum_nights  availability_365  \\\n",
            "price              1.000000        0.013890          0.042520   \n",
            "minimum_nights     0.013890        1.000000          0.024790   \n",
            "availability_365   0.042520        0.024790          1.000000   \n",
            "number_of_reviews -0.037626       -0.035262         -0.141667   \n",
            "reviews_per_month -0.061091       -0.040899         -0.103398   \n",
            "\n",
            "                   number_of_reviews  reviews_per_month  \n",
            "price                      -0.037626          -0.061091  \n",
            "minimum_nights             -0.035262          -0.040899  \n",
            "availability_365           -0.141667          -0.103398  \n",
            "number_of_reviews           1.000000           0.511114  \n",
            "reviews_per_month           0.511114           1.000000  \n"
          ]
        }
      ]
    }
  ]
}
