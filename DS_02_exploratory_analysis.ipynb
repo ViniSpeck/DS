{
  "nbformat": 4,
  "nbformat_minor": 0,
  "metadata": {
    "colab": {
      "name": "DS-02-exploratory_analysis.ipynb",
      "provenance": [],
      "authorship_tag": "ABX9TyN0pfRZcDlVEQPPMy1noJrs",
      "include_colab_link": true
    },
    "kernelspec": {
      "name": "python3",
      "display_name": "Python 3"
    },
    "language_info": {
      "name": "python"
    }
  },
  "cells": [
    {
      "cell_type": "markdown",
      "metadata": {
        "id": "view-in-github",
        "colab_type": "text"
      },
      "source": [
        "<a href=\"https://colab.research.google.com/github/ViniSpeck/DS/blob/main/DS_02_exploratory_analysis.ipynb\" target=\"_parent\"><img src=\"https://colab.research.google.com/assets/colab-badge.svg\" alt=\"Open In Colab\"/></a>"
      ]
    },
    {
      "cell_type": "markdown",
      "source": [
        "#Introductory Study\n",
        "\n",
        "We'll start with a **exploratory analysis** on Airbnb data for Rio de Janeiro.\n",
        "\n",
        "Data will be obtained from the InsideAirbnb website - http://insideairbnb.com/get-the-data/\n"
      ],
      "metadata": {
        "id": "0xw_ZqWUzvWS"
      }
    },
    {
      "cell_type": "code",
      "execution_count": 62,
      "metadata": {
        "id": "7m5jRYtCzDFW"
      },
      "outputs": [],
      "source": [
        "#Pandas: Numerical tables and time series analysis and manipulation\n",
        "import pandas as pd\n",
        "\n",
        "#Matplotlib: Visualize data through graphics\n",
        "import matplotlib.pyplot as plt\n",
        "\n",
        "#Seaborn: Better graphics\n",
        "import seaborn as sns\n",
        "\n",
        "#SciPy: NumPy with extra scientific utility\n",
        "from scipy import stats\n",
        "\n",
        "#Determines graphics will be shown in the cell after the code\n",
        "%matplotlib inline\n",
        "\n",
        "#Load Airbnb's dataset\n",
        "df=pd.read_csv(\"http://data.insideairbnb.com/brazil/rj/rio-de-janeiro/2022-06-20/visualisations/listings.csv\")\n",
        "\n"
      ]
    },
    {
      "cell_type": "code",
      "source": [
        "#Show DataFrame\n",
        "df.head(15)"
      ],
      "metadata": {
        "id": "zlvNOjSv8lHT"
      },
      "execution_count": null,
      "outputs": []
    },
    {
      "cell_type": "markdown",
      "source": [
        "## Getting to know the DataFrame's attributes\n",
        "\n",
        "Verifying how many rows and columns exist in the DataFrame with ***shape***"
      ],
      "metadata": {
        "id": "zjOBTNuc89k1"
      }
    },
    {
      "cell_type": "code",
      "source": [
        "print(\"Inputs (Rows):\", df.shape[0])\n",
        "print(\"Variables (Columns):\", df.shape[1])"
      ],
      "metadata": {
        "colab": {
          "base_uri": "https://localhost:8080/"
        },
        "id": "k0GqqJRY88Ci",
        "outputId": "767643a2-ee3e-4f37-f159-18e1f0a08aea"
      },
      "execution_count": 23,
      "outputs": [
        {
          "output_type": "stream",
          "name": "stdout",
          "text": [
            "Inputs (Rows): 24881\n",
            "Variables (Columns): 18\n"
          ]
        }
      ]
    },
    {
      "cell_type": "markdown",
      "source": [
        "Show each column's data type with ***dtypes***\n",
        "\n",
        "(***display()***=different version of ***print()***)"
      ],
      "metadata": {
        "id": "6M6eXzih_M6_"
      }
    },
    {
      "cell_type": "code",
      "source": [
        "display(df.dtypes)"
      ],
      "metadata": {
        "id": "BE-ZLcaO_fy3"
      },
      "execution_count": null,
      "outputs": []
    },
    {
      "cell_type": "markdown",
      "source": [
        "Display all neighborhoods present in the DataFrame\n",
        "\n",
        "***unique()*** - Keeps one of each value, transforms into array\n",
        "\n",
        "***drop_duplicates()*** - Keeps one of each value, stays as DataFrame\n",
        "\n",
        "***sort_values()*** - Order neighborhoods alphabetically\n",
        "\n",
        "***reset_index(drop=True)*** - Recreates index for the new order and drops former indexes column"
      ],
      "metadata": {
        "id": "lkFp73otACfO"
      }
    },
    {
      "cell_type": "code",
      "source": [
        "df['neighbourhood'].drop_duplicates().sort_values().reset_index(drop=True)"
      ],
      "metadata": {
        "colab": {
          "base_uri": "https://localhost:8080/"
        },
        "id": "hRxPJ84mAK9r",
        "outputId": "0404dcd5-8c7c-4b0c-b913-0193b4ff540d"
      },
      "execution_count": 49,
      "outputs": [
        {
          "output_type": "execute_result",
          "data": {
            "text/plain": [
              "0               Abolição\n",
              "1                  Acari\n",
              "2      Alto da Boa Vista\n",
              "3               Anchieta\n",
              "4                Andaraí\n",
              "             ...        \n",
              "148         Vila Militar\n",
              "149       Vila Valqueire\n",
              "150        Vila da Penha\n",
              "151                Zumbi\n",
              "152           Água Santa\n",
              "Name: neighbourhood, Length: 153, dtype: object"
            ]
          },
          "metadata": {},
          "execution_count": 49
        }
      ]
    },
    {
      "cell_type": "markdown",
      "source": [
        "Aggregating values"
      ],
      "metadata": {
        "id": "bXZWlSc-Fr9V"
      }
    },
    {
      "cell_type": "code",
      "source": [
        "print(\"Number of rows (total including NaNs):\",df['id'].count())\n",
        "print(\"Price sum:\",df['price'].sum())\n",
        "print(\"Price average:\",df['price'].mean())\n",
        "print(\"Lowest price:\",df['price'].min())\n",
        "print(\"Highest price:\",df['price'].max())\n",
        "print(\"Qty of null names:\", df['name'].isnull().sum())"
      ],
      "metadata": {
        "id": "RVCLOAS4Ftrl"
      },
      "execution_count": null,
      "outputs": []
    },
    {
      "cell_type": "markdown",
      "source": [
        "Calculating the % of null(NaN) rows in DataFrame\n",
        "\n",
        "*(sum of null values/number of rows)* * *100* \n",
        "\n",
        "***sort_values(ascending=False)*** - Sort values descending"
      ],
      "metadata": {
        "id": "L3xx3-U4KTuT"
      }
    },
    {
      "cell_type": "code",
      "source": [
        "((df.isnull().sum()/df.shape[0])*100).sort_values(ascending=False)"
      ],
      "metadata": {
        "colab": {
          "base_uri": "https://localhost:8080/"
        },
        "id": "e_B3t_9IJ2wX",
        "outputId": "b5dc3a30-4619-4190-81af-0dcd130ef222"
      },
      "execution_count": 74,
      "outputs": [
        {
          "output_type": "execute_result",
          "data": {
            "text/plain": [
              "license                           100.000000\n",
              "neighbourhood_group               100.000000\n",
              "reviews_per_month                  30.818697\n",
              "last_review                        30.818697\n",
              "host_name                           0.470238\n",
              "name                                0.084402\n",
              "number_of_reviews                   0.000000\n",
              "number_of_reviews_ltm               0.000000\n",
              "availability_365                    0.000000\n",
              "calculated_host_listings_count      0.000000\n",
              "id                                  0.000000\n",
              "minimum_nights                      0.000000\n",
              "room_type                           0.000000\n",
              "longitude                           0.000000\n",
              "latitude                            0.000000\n",
              "neighbourhood                       0.000000\n",
              "host_id                             0.000000\n",
              "price                               0.000000\n",
              "dtype: float64"
            ]
          },
          "metadata": {},
          "execution_count": 74
        }
      ]
    },
    {
      "cell_type": "markdown",
      "source": [
        "**Trim Mean** - Average which eliminates outliers (upper and lower percentile)"
      ],
      "metadata": {
        "id": "kXhuCNsBJABO"
      }
    },
    {
      "cell_type": "code",
      "source": [
        "stats.trim_mean(df['price'], 0.1)"
      ],
      "metadata": {
        "colab": {
          "base_uri": "https://localhost:8080/"
        },
        "id": "Jd2SR7YFHcmN",
        "outputId": "f3deeecb-e2cf-4bec-eb4f-712ab264222f"
      },
      "execution_count": 85,
      "outputs": [
        {
          "output_type": "execute_result",
          "data": {
            "text/plain": [
              "389.5202210499874"
            ]
          },
          "metadata": {},
          "execution_count": 85
        }
      ]
    },
    {
      "cell_type": "markdown",
      "source": [
        "Creating Histograms (no criteria yet)"
      ],
      "metadata": {
        "id": "-VvTEpaTMsZJ"
      }
    },
    {
      "cell_type": "code",
      "source": [
        "df.hist(bins=2,figsize=(20,30))"
      ],
      "metadata": {
        "id": "C0TVzDcHMsF8"
      },
      "execution_count": null,
      "outputs": []
    }
  ]
}