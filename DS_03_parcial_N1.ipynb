{
  "nbformat": 4,
  "nbformat_minor": 0,
  "metadata": {
    "colab": {
      "provenance": [],
      "collapsed_sections": [],
      "authorship_tag": "ABX9TyOWDXcCFbcnGisP/+nrErW9",
      "include_colab_link": true
    },
    "kernelspec": {
      "name": "python3",
      "display_name": "Python 3"
    },
    "language_info": {
      "name": "python"
    }
  },
  "cells": [
    {
      "cell_type": "markdown",
      "metadata": {
        "id": "view-in-github",
        "colab_type": "text"
      },
      "source": [
        "<a href=\"https://colab.research.google.com/github/ViniSpeck/DS/blob/main/DS_03_parcial_N1.ipynb\" target=\"_parent\"><img src=\"https://colab.research.google.com/assets/colab-badge.svg\" alt=\"Open In Colab\"/></a>"
      ]
    },
    {
      "cell_type": "markdown",
      "source": [
        "Importando bibliotecas e dados do Airbnb referentes à região de Gante na Bélgica"
      ],
      "metadata": {
        "id": "q1uwQWlja7G5"
      }
    },
    {
      "cell_type": "code",
      "execution_count": 61,
      "metadata": {
        "id": "avc6If2IaOtr"
      },
      "outputs": [],
      "source": [
        "import pandas as pd\n",
        "import matplotlib.pyplot as plt\n",
        "import seaborn as sns\n",
        "from scipy import stats\n",
        "%matplotlib inline\n",
        "\n",
        "df=pd.read_csv(\"http://data.insideairbnb.com/belgium/vlg/ghent/2022-06-20/visualisations/listings.csv\")"
      ]
    },
    {
      "cell_type": "markdown",
      "source": [
        "1) Prévia do conteúdo utilizando a função `head()` (por padrão mostra as 5 primeiras entradas)."
      ],
      "metadata": {
        "id": "SFUcuQx-bYy7"
      }
    },
    {
      "cell_type": "code",
      "source": [
        "df.head()"
      ],
      "metadata": {
        "colab": {
          "base_uri": "https://localhost:8080/",
          "height": 617
        },
        "id": "_P5uhz4mbYfH",
        "outputId": "ce7c74cf-b9ac-4080-8449-3e66c4987602"
      },
      "execution_count": 62,
      "outputs": [
        {
          "output_type": "execute_result",
          "data": {
            "text/plain": [
              "       id                                               name  host_id  \\\n",
              "0  187870  Luxury studio 'Spiegelhof' in the centre of Ghent   904277   \n",
              "1  252269  Large & bright town House - Center Ghent - max 8p  1195314   \n",
              "2  476371   Basic room in a 19th century house near station.   996824   \n",
              "3  599325                            Ghent! Need I say more?  2964980   \n",
              "4  696209                Black & White studioB central Ghent  1328011   \n",
              "\n",
              "     host_name  neighbourhood_group                  neighbourhood  latitude  \\\n",
              "0       Tamara                  NaN      Watersportbaan - Ekkergem  51.05168   \n",
              "1  Anne-Sophie                  NaN  Elisabethbegijnhof - Papegaai  51.05216   \n",
              "2     Annabell                  NaN            Macharius - Heirnis  51.04857   \n",
              "3          Sas                  NaN                       Ledeberg  51.03454   \n",
              "4          Jan                  NaN  Elisabethbegijnhof - Papegaai  51.05021   \n",
              "\n",
              "   longitude        room_type  price  minimum_nights  number_of_reviews  \\\n",
              "0    3.70283     Private room     80               2                426   \n",
              "1    3.71993  Entire home/apt    246               2                196   \n",
              "2    3.74224     Private room     60               1                 32   \n",
              "3    3.74631     Private room     41               2                126   \n",
              "4    3.71624  Entire home/apt     96              90                 35   \n",
              "\n",
              "  last_review  reviews_per_month  calculated_host_listings_count  \\\n",
              "0  2021-10-01               3.25                               1   \n",
              "1  2022-06-12               1.58                               1   \n",
              "2  2022-06-05               0.26                               3   \n",
              "3  2022-06-17               1.04                               1   \n",
              "4  2022-05-01               0.31                               4   \n",
              "\n",
              "   availability_365  number_of_reviews_ltm  license  \n",
              "0               236                      8      NaN  \n",
              "1               223                     42      NaN  \n",
              "2               357                      8      NaN  \n",
              "3               180                     14      NaN  \n",
              "4               202                      3      NaN  "
            ],
            "text/html": [
              "\n",
              "  <div id=\"df-4871ab68-3ecd-49da-9169-2dd0f129401c\">\n",
              "    <div class=\"colab-df-container\">\n",
              "      <div>\n",
              "<style scoped>\n",
              "    .dataframe tbody tr th:only-of-type {\n",
              "        vertical-align: middle;\n",
              "    }\n",
              "\n",
              "    .dataframe tbody tr th {\n",
              "        vertical-align: top;\n",
              "    }\n",
              "\n",
              "    .dataframe thead th {\n",
              "        text-align: right;\n",
              "    }\n",
              "</style>\n",
              "<table border=\"1\" class=\"dataframe\">\n",
              "  <thead>\n",
              "    <tr style=\"text-align: right;\">\n",
              "      <th></th>\n",
              "      <th>id</th>\n",
              "      <th>name</th>\n",
              "      <th>host_id</th>\n",
              "      <th>host_name</th>\n",
              "      <th>neighbourhood_group</th>\n",
              "      <th>neighbourhood</th>\n",
              "      <th>latitude</th>\n",
              "      <th>longitude</th>\n",
              "      <th>room_type</th>\n",
              "      <th>price</th>\n",
              "      <th>minimum_nights</th>\n",
              "      <th>number_of_reviews</th>\n",
              "      <th>last_review</th>\n",
              "      <th>reviews_per_month</th>\n",
              "      <th>calculated_host_listings_count</th>\n",
              "      <th>availability_365</th>\n",
              "      <th>number_of_reviews_ltm</th>\n",
              "      <th>license</th>\n",
              "    </tr>\n",
              "  </thead>\n",
              "  <tbody>\n",
              "    <tr>\n",
              "      <th>0</th>\n",
              "      <td>187870</td>\n",
              "      <td>Luxury studio 'Spiegelhof' in the centre of Ghent</td>\n",
              "      <td>904277</td>\n",
              "      <td>Tamara</td>\n",
              "      <td>NaN</td>\n",
              "      <td>Watersportbaan - Ekkergem</td>\n",
              "      <td>51.05168</td>\n",
              "      <td>3.70283</td>\n",
              "      <td>Private room</td>\n",
              "      <td>80</td>\n",
              "      <td>2</td>\n",
              "      <td>426</td>\n",
              "      <td>2021-10-01</td>\n",
              "      <td>3.25</td>\n",
              "      <td>1</td>\n",
              "      <td>236</td>\n",
              "      <td>8</td>\n",
              "      <td>NaN</td>\n",
              "    </tr>\n",
              "    <tr>\n",
              "      <th>1</th>\n",
              "      <td>252269</td>\n",
              "      <td>Large &amp; bright town House - Center Ghent - max 8p</td>\n",
              "      <td>1195314</td>\n",
              "      <td>Anne-Sophie</td>\n",
              "      <td>NaN</td>\n",
              "      <td>Elisabethbegijnhof - Papegaai</td>\n",
              "      <td>51.05216</td>\n",
              "      <td>3.71993</td>\n",
              "      <td>Entire home/apt</td>\n",
              "      <td>246</td>\n",
              "      <td>2</td>\n",
              "      <td>196</td>\n",
              "      <td>2022-06-12</td>\n",
              "      <td>1.58</td>\n",
              "      <td>1</td>\n",
              "      <td>223</td>\n",
              "      <td>42</td>\n",
              "      <td>NaN</td>\n",
              "    </tr>\n",
              "    <tr>\n",
              "      <th>2</th>\n",
              "      <td>476371</td>\n",
              "      <td>Basic room in a 19th century house near station.</td>\n",
              "      <td>996824</td>\n",
              "      <td>Annabell</td>\n",
              "      <td>NaN</td>\n",
              "      <td>Macharius - Heirnis</td>\n",
              "      <td>51.04857</td>\n",
              "      <td>3.74224</td>\n",
              "      <td>Private room</td>\n",
              "      <td>60</td>\n",
              "      <td>1</td>\n",
              "      <td>32</td>\n",
              "      <td>2022-06-05</td>\n",
              "      <td>0.26</td>\n",
              "      <td>3</td>\n",
              "      <td>357</td>\n",
              "      <td>8</td>\n",
              "      <td>NaN</td>\n",
              "    </tr>\n",
              "    <tr>\n",
              "      <th>3</th>\n",
              "      <td>599325</td>\n",
              "      <td>Ghent! Need I say more?</td>\n",
              "      <td>2964980</td>\n",
              "      <td>Sas</td>\n",
              "      <td>NaN</td>\n",
              "      <td>Ledeberg</td>\n",
              "      <td>51.03454</td>\n",
              "      <td>3.74631</td>\n",
              "      <td>Private room</td>\n",
              "      <td>41</td>\n",
              "      <td>2</td>\n",
              "      <td>126</td>\n",
              "      <td>2022-06-17</td>\n",
              "      <td>1.04</td>\n",
              "      <td>1</td>\n",
              "      <td>180</td>\n",
              "      <td>14</td>\n",
              "      <td>NaN</td>\n",
              "    </tr>\n",
              "    <tr>\n",
              "      <th>4</th>\n",
              "      <td>696209</td>\n",
              "      <td>Black &amp; White studioB central Ghent</td>\n",
              "      <td>1328011</td>\n",
              "      <td>Jan</td>\n",
              "      <td>NaN</td>\n",
              "      <td>Elisabethbegijnhof - Papegaai</td>\n",
              "      <td>51.05021</td>\n",
              "      <td>3.71624</td>\n",
              "      <td>Entire home/apt</td>\n",
              "      <td>96</td>\n",
              "      <td>90</td>\n",
              "      <td>35</td>\n",
              "      <td>2022-05-01</td>\n",
              "      <td>0.31</td>\n",
              "      <td>4</td>\n",
              "      <td>202</td>\n",
              "      <td>3</td>\n",
              "      <td>NaN</td>\n",
              "    </tr>\n",
              "  </tbody>\n",
              "</table>\n",
              "</div>\n",
              "      <button class=\"colab-df-convert\" onclick=\"convertToInteractive('df-4871ab68-3ecd-49da-9169-2dd0f129401c')\"\n",
              "              title=\"Convert this dataframe to an interactive table.\"\n",
              "              style=\"display:none;\">\n",
              "        \n",
              "  <svg xmlns=\"http://www.w3.org/2000/svg\" height=\"24px\"viewBox=\"0 0 24 24\"\n",
              "       width=\"24px\">\n",
              "    <path d=\"M0 0h24v24H0V0z\" fill=\"none\"/>\n",
              "    <path d=\"M18.56 5.44l.94 2.06.94-2.06 2.06-.94-2.06-.94-.94-2.06-.94 2.06-2.06.94zm-11 1L8.5 8.5l.94-2.06 2.06-.94-2.06-.94L8.5 2.5l-.94 2.06-2.06.94zm10 10l.94 2.06.94-2.06 2.06-.94-2.06-.94-.94-2.06-.94 2.06-2.06.94z\"/><path d=\"M17.41 7.96l-1.37-1.37c-.4-.4-.92-.59-1.43-.59-.52 0-1.04.2-1.43.59L10.3 9.45l-7.72 7.72c-.78.78-.78 2.05 0 2.83L4 21.41c.39.39.9.59 1.41.59.51 0 1.02-.2 1.41-.59l7.78-7.78 2.81-2.81c.8-.78.8-2.07 0-2.86zM5.41 20L4 18.59l7.72-7.72 1.47 1.35L5.41 20z\"/>\n",
              "  </svg>\n",
              "      </button>\n",
              "      \n",
              "  <style>\n",
              "    .colab-df-container {\n",
              "      display:flex;\n",
              "      flex-wrap:wrap;\n",
              "      gap: 12px;\n",
              "    }\n",
              "\n",
              "    .colab-df-convert {\n",
              "      background-color: #E8F0FE;\n",
              "      border: none;\n",
              "      border-radius: 50%;\n",
              "      cursor: pointer;\n",
              "      display: none;\n",
              "      fill: #1967D2;\n",
              "      height: 32px;\n",
              "      padding: 0 0 0 0;\n",
              "      width: 32px;\n",
              "    }\n",
              "\n",
              "    .colab-df-convert:hover {\n",
              "      background-color: #E2EBFA;\n",
              "      box-shadow: 0px 1px 2px rgba(60, 64, 67, 0.3), 0px 1px 3px 1px rgba(60, 64, 67, 0.15);\n",
              "      fill: #174EA6;\n",
              "    }\n",
              "\n",
              "    [theme=dark] .colab-df-convert {\n",
              "      background-color: #3B4455;\n",
              "      fill: #D2E3FC;\n",
              "    }\n",
              "\n",
              "    [theme=dark] .colab-df-convert:hover {\n",
              "      background-color: #434B5C;\n",
              "      box-shadow: 0px 1px 3px 1px rgba(0, 0, 0, 0.15);\n",
              "      filter: drop-shadow(0px 1px 2px rgba(0, 0, 0, 0.3));\n",
              "      fill: #FFFFFF;\n",
              "    }\n",
              "  </style>\n",
              "\n",
              "      <script>\n",
              "        const buttonEl =\n",
              "          document.querySelector('#df-4871ab68-3ecd-49da-9169-2dd0f129401c button.colab-df-convert');\n",
              "        buttonEl.style.display =\n",
              "          google.colab.kernel.accessAllowed ? 'block' : 'none';\n",
              "\n",
              "        async function convertToInteractive(key) {\n",
              "          const element = document.querySelector('#df-4871ab68-3ecd-49da-9169-2dd0f129401c');\n",
              "          const dataTable =\n",
              "            await google.colab.kernel.invokeFunction('convertToInteractive',\n",
              "                                                     [key], {});\n",
              "          if (!dataTable) return;\n",
              "\n",
              "          const docLinkHtml = 'Like what you see? Visit the ' +\n",
              "            '<a target=\"_blank\" href=https://colab.research.google.com/notebooks/data_table.ipynb>data table notebook</a>'\n",
              "            + ' to learn more about interactive tables.';\n",
              "          element.innerHTML = '';\n",
              "          dataTable['output_type'] = 'display_data';\n",
              "          await google.colab.output.renderOutput(dataTable, element);\n",
              "          const docLink = document.createElement('div');\n",
              "          docLink.innerHTML = docLinkHtml;\n",
              "          element.appendChild(docLink);\n",
              "        }\n",
              "      </script>\n",
              "    </div>\n",
              "  </div>\n",
              "  "
            ]
          },
          "metadata": {},
          "execution_count": 62
        }
      ]
    },
    {
      "cell_type": "markdown",
      "source": [
        "2) Exibindo a quantidade de entradas (linhas) e variáveis (colunas) utilizando o método `shape`"
      ],
      "metadata": {
        "id": "p24kr3QUd8gA"
      }
    },
    {
      "cell_type": "code",
      "source": [
        "print(\"Entradas:\", df.shape[0])\n",
        "print(\"Variáveis:\", df.shape[1])"
      ],
      "metadata": {
        "colab": {
          "base_uri": "https://localhost:8080/"
        },
        "id": "iuO1bqjEdsSI",
        "outputId": "6ab4c28e-c597-4660-df86-9d701d093867"
      },
      "execution_count": 63,
      "outputs": [
        {
          "output_type": "stream",
          "name": "stdout",
          "text": [
            "Entradas: 1048\n",
            "Variáveis: 18\n"
          ]
        }
      ]
    },
    {
      "cell_type": "markdown",
      "source": [
        "3a) Verificando a quantidade de valores ausentes por variável agregando os valores nulos do DataFrame com as funções `isnull()` e `sum()`, dividindo pelo número de entradas (linhas) e multiplicando por 100 para obter a porcentagem. A função `sort_values` com o parâmetro `ascending=False` faz a ordenação decrescente dos valores."
      ],
      "metadata": {
        "id": "Dz3t7oLgfsY8"
      }
    },
    {
      "cell_type": "code",
      "source": [
        "((df.isnull().sum()/df.shape[0])*100).sort_values(ascending=False)"
      ],
      "metadata": {
        "colab": {
          "base_uri": "https://localhost:8080/"
        },
        "id": "U2JDglHvfsGy",
        "outputId": "d591de91-396c-452c-c7dc-8ab6804be3fb"
      },
      "execution_count": 64,
      "outputs": [
        {
          "output_type": "execute_result",
          "data": {
            "text/plain": [
              "license                           100.000000\n",
              "neighbourhood_group               100.000000\n",
              "reviews_per_month                  11.354962\n",
              "last_review                        11.354962\n",
              "minimum_nights                      0.000000\n",
              "number_of_reviews_ltm               0.000000\n",
              "availability_365                    0.000000\n",
              "calculated_host_listings_count      0.000000\n",
              "number_of_reviews                   0.000000\n",
              "id                                  0.000000\n",
              "name                                0.000000\n",
              "room_type                           0.000000\n",
              "longitude                           0.000000\n",
              "latitude                            0.000000\n",
              "neighbourhood                       0.000000\n",
              "host_name                           0.000000\n",
              "host_id                             0.000000\n",
              "price                               0.000000\n",
              "dtype: float64"
            ]
          },
          "metadata": {},
          "execution_count": 64
        }
      ]
    },
    {
      "cell_type": "markdown",
      "source": [
        "3b) Mostrando a distribuição de valores nas variáveis utilizando a função `hist()`, com o parâmetro `bins=3` para definir o número de divisões e `figsize=(20,30)` para definir o dimensionamento do gráfico."
      ],
      "metadata": {
        "id": "WTWH43l6iPlF"
      }
    },
    {
      "cell_type": "code",
      "source": [
        "df.hist(bins=3,figsize=(20,30))"
      ],
      "metadata": {
        "colab": {
          "base_uri": "https://localhost:8080/",
          "height": 1000
        },
        "id": "TvOAX73miQHZ",
        "outputId": "c297122b-ed66-4a04-f049-c4d1360c6d2c"
      },
      "execution_count": 65,
      "outputs": [
        {
          "output_type": "execute_result",
          "data": {
            "text/plain": [
              "array([[<matplotlib.axes._subplots.AxesSubplot object at 0x7f0febd72f90>,\n",
              "        <matplotlib.axes._subplots.AxesSubplot object at 0x7f0febd943d0>,\n",
              "        <matplotlib.axes._subplots.AxesSubplot object at 0x7f0febd3b9d0>,\n",
              "        <matplotlib.axes._subplots.AxesSubplot object at 0x7f0febd61b10>],\n",
              "       [<matplotlib.axes._subplots.AxesSubplot object at 0x7f0febcab610>,\n",
              "        <matplotlib.axes._subplots.AxesSubplot object at 0x7f0febce1c10>,\n",
              "        <matplotlib.axes._subplots.AxesSubplot object at 0x7f0febca42d0>,\n",
              "        <matplotlib.axes._subplots.AxesSubplot object at 0x7f0febc5c810>],\n",
              "       [<matplotlib.axes._subplots.AxesSubplot object at 0x7f0febc5c850>,\n",
              "        <matplotlib.axes._subplots.AxesSubplot object at 0x7f0febc21210>,\n",
              "        <matplotlib.axes._subplots.AxesSubplot object at 0x7f0febb93ad0>,\n",
              "        <matplotlib.axes._subplots.AxesSubplot object at 0x7f0febb3eb90>],\n",
              "       [<matplotlib.axes._subplots.AxesSubplot object at 0x7f0febb0e690>,\n",
              "        <matplotlib.axes._subplots.AxesSubplot object at 0x7f0febac3c90>,\n",
              "        <matplotlib.axes._subplots.AxesSubplot object at 0x7f0feba882d0>,\n",
              "        <matplotlib.axes._subplots.AxesSubplot object at 0x7f0feba408d0>]],\n",
              "      dtype=object)"
            ]
          },
          "metadata": {},
          "execution_count": 65
        },
        {
          "output_type": "display_data",
          "data": {
            "text/plain": [
              "<Figure size 1440x2160 with 16 Axes>"
            ],
            "image/png": "[encoded data removed]"
          },
          "metadata": {
            "needs_background": "light"
          }
        }
      ]
    },
    {
      "cell_type": "markdown",
      "source": [
        "3c) Identificando outliers: \n",
        "\n",
        "1.   Preço: Um quarto com diária de 1000$ não é algo anormal, mas sobe um pouco a média de preços. \n",
        "2.   Mínimo de noites: O valor de 250 está muito fora do padrão e afeta bastante a média.\n",
        "3.   Existem 91 quartos que não estão disponíveis nenhum dia no ano, valor anormal no contexto do Airbnb.\n",
        "\n",
        "\n",
        "\n"
      ],
      "metadata": {
        "id": "piaiTkn0kPMT"
      }
    },
    {
      "cell_type": "code",
      "source": [
        "lista_precos = df.price.sort_values()\n",
        "lista_noites = df.minimum_nights.sort_values()\n",
        "lista_disponibilidade = df.availability_365.sort_values()\n",
        "qtd_dias_disp =(df.availability_365<1).sum()\n",
        "print(qtd_dias_disp)"
      ],
      "metadata": {
        "colab": {
          "base_uri": "https://localhost:8080/"
        },
        "id": "FWElxI9Sl201",
        "outputId": "db4d6130-bc31-4457-ef46-ac9c2e072dc5"
      },
      "execution_count": 66,
      "outputs": [
        {
          "output_type": "stream",
          "name": "stdout",
          "text": [
            "91\n"
          ]
        }
      ]
    },
    {
      "cell_type": "code",
      "source": [
        "df[['price','minimum_nights','availability_365']].describe()"
      ],
      "metadata": {
        "colab": {
          "base_uri": "https://localhost:8080/",
          "height": 300
        },
        "id": "-3XRwMYHkPk5",
        "outputId": "cf166a4d-38be-4010-bdea-50c576116b16"
      },
      "execution_count": 67,
      "outputs": [
        {
          "output_type": "execute_result",
          "data": {
            "text/plain": [
              "             price  minimum_nights  availability_365\n",
              "count  1048.000000     1048.000000       1048.000000\n",
              "mean    104.315840        4.092557        163.021947\n",
              "std      72.201845       11.901940        123.169890\n",
              "min      22.000000        1.000000          0.000000\n",
              "25%      64.000000        1.000000         47.750000\n",
              "50%      87.500000        2.000000        150.000000\n",
              "75%     125.000000        3.000000        291.000000\n",
              "max    1000.000000      250.000000        365.000000"
            ],
            "text/html": [
              "\n",
              "  <div id=\"df-6eb10a7d-2c5f-41db-930c-49227011ed18\">\n",
              "    <div class=\"colab-df-container\">\n",
              "      <div>\n",
              "<style scoped>\n",
              "    .dataframe tbody tr th:only-of-type {\n",
              "        vertical-align: middle;\n",
              "    }\n",
              "\n",
              "    .dataframe tbody tr th {\n",
              "        vertical-align: top;\n",
              "    }\n",
              "\n",
              "    .dataframe thead th {\n",
              "        text-align: right;\n",
              "    }\n",
              "</style>\n",
              "<table border=\"1\" class=\"dataframe\">\n",
              "  <thead>\n",
              "    <tr style=\"text-align: right;\">\n",
              "      <th></th>\n",
              "      <th>price</th>\n",
              "      <th>minimum_nights</th>\n",
              "      <th>availability_365</th>\n",
              "    </tr>\n",
              "  </thead>\n",
              "  <tbody>\n",
              "    <tr>\n",
              "      <th>count</th>\n",
              "      <td>1048.000000</td>\n",
              "      <td>1048.000000</td>\n",
              "      <td>1048.000000</td>\n",
              "    </tr>\n",
              "    <tr>\n",
              "      <th>mean</th>\n",
              "      <td>104.315840</td>\n",
              "      <td>4.092557</td>\n",
              "      <td>163.021947</td>\n",
              "    </tr>\n",
              "    <tr>\n",
              "      <th>std</th>\n",
              "      <td>72.201845</td>\n",
              "      <td>11.901940</td>\n",
              "      <td>123.169890</td>\n",
              "    </tr>\n",
              "    <tr>\n",
              "      <th>min</th>\n",
              "      <td>22.000000</td>\n",
              "      <td>1.000000</td>\n",
              "      <td>0.000000</td>\n",
              "    </tr>\n",
              "    <tr>\n",
              "      <th>25%</th>\n",
              "      <td>64.000000</td>\n",
              "      <td>1.000000</td>\n",
              "      <td>47.750000</td>\n",
              "    </tr>\n",
              "    <tr>\n",
              "      <th>50%</th>\n",
              "      <td>87.500000</td>\n",
              "      <td>2.000000</td>\n",
              "      <td>150.000000</td>\n",
              "    </tr>\n",
              "    <tr>\n",
              "      <th>75%</th>\n",
              "      <td>125.000000</td>\n",
              "      <td>3.000000</td>\n",
              "      <td>291.000000</td>\n",
              "    </tr>\n",
              "    <tr>\n",
              "      <th>max</th>\n",
              "      <td>1000.000000</td>\n",
              "      <td>250.000000</td>\n",
              "      <td>365.000000</td>\n",
              "    </tr>\n",
              "  </tbody>\n",
              "</table>\n",
              "</div>\n",
              "      <button class=\"colab-df-convert\" onclick=\"convertToInteractive('df-6eb10a7d-2c5f-41db-930c-49227011ed18')\"\n",
              "              title=\"Convert this dataframe to an interactive table.\"\n",
              "              style=\"display:none;\">\n",
              "        \n",
              "  <svg xmlns=\"http://www.w3.org/2000/svg\" height=\"24px\"viewBox=\"0 0 24 24\"\n",
              "       width=\"24px\">\n",
              "    <path d=\"M0 0h24v24H0V0z\" fill=\"none\"/>\n",
              "    <path d=\"M18.56 5.44l.94 2.06.94-2.06 2.06-.94-2.06-.94-.94-2.06-.94 2.06-2.06.94zm-11 1L8.5 8.5l.94-2.06 2.06-.94-2.06-.94L8.5 2.5l-.94 2.06-2.06.94zm10 10l.94 2.06.94-2.06 2.06-.94-2.06-.94-.94-2.06-.94 2.06-2.06.94z\"/><path d=\"M17.41 7.96l-1.37-1.37c-.4-.4-.92-.59-1.43-.59-.52 0-1.04.2-1.43.59L10.3 9.45l-7.72 7.72c-.78.78-.78 2.05 0 2.83L4 21.41c.39.39.9.59 1.41.59.51 0 1.02-.2 1.41-.59l7.78-7.78 2.81-2.81c.8-.78.8-2.07 0-2.86zM5.41 20L4 18.59l7.72-7.72 1.47 1.35L5.41 20z\"/>\n",
              "  </svg>\n",
              "      </button>\n",
              "      \n",
              "  <style>\n",
              "    .colab-df-container {\n",
              "      display:flex;\n",
              "      flex-wrap:wrap;\n",
              "      gap: 12px;\n",
              "    }\n",
              "\n",
              "    .colab-df-convert {\n",
              "      background-color: #E8F0FE;\n",
              "      border: none;\n",
              "      border-radius: 50%;\n",
              "      cursor: pointer;\n",
              "      display: none;\n",
              "      fill: #1967D2;\n",
              "      height: 32px;\n",
              "      padding: 0 0 0 0;\n",
              "      width: 32px;\n",
              "    }\n",
              "\n",
              "    .colab-df-convert:hover {\n",
              "      background-color: #E2EBFA;\n",
              "      box-shadow: 0px 1px 2px rgba(60, 64, 67, 0.3), 0px 1px 3px 1px rgba(60, 64, 67, 0.15);\n",
              "      fill: #174EA6;\n",
              "    }\n",
              "\n",
              "    [theme=dark] .colab-df-convert {\n",
              "      background-color: #3B4455;\n",
              "      fill: #D2E3FC;\n",
              "    }\n",
              "\n",
              "    [theme=dark] .colab-df-convert:hover {\n",
              "      background-color: #434B5C;\n",
              "      box-shadow: 0px 1px 3px 1px rgba(0, 0, 0, 0.15);\n",
              "      filter: drop-shadow(0px 1px 2px rgba(0, 0, 0, 0.3));\n",
              "      fill: #FFFFFF;\n",
              "    }\n",
              "  </style>\n",
              "\n",
              "      <script>\n",
              "        const buttonEl =\n",
              "          document.querySelector('#df-6eb10a7d-2c5f-41db-930c-49227011ed18 button.colab-df-convert');\n",
              "        buttonEl.style.display =\n",
              "          google.colab.kernel.accessAllowed ? 'block' : 'none';\n",
              "\n",
              "        async function convertToInteractive(key) {\n",
              "          const element = document.querySelector('#df-6eb10a7d-2c5f-41db-930c-49227011ed18');\n",
              "          const dataTable =\n",
              "            await google.colab.kernel.invokeFunction('convertToInteractive',\n",
              "                                                     [key], {});\n",
              "          if (!dataTable) return;\n",
              "\n",
              "          const docLinkHtml = 'Like what you see? Visit the ' +\n",
              "            '<a target=\"_blank\" href=https://colab.research.google.com/notebooks/data_table.ipynb>data table notebook</a>'\n",
              "            + ' to learn more about interactive tables.';\n",
              "          element.innerHTML = '';\n",
              "          dataTable['output_type'] = 'display_data';\n",
              "          await google.colab.output.renderOutput(dataTable, element);\n",
              "          const docLink = document.createElement('div');\n",
              "          docLink.innerHTML = docLinkHtml;\n",
              "          element.appendChild(docLink);\n",
              "        }\n",
              "      </script>\n",
              "    </div>\n",
              "  </div>\n",
              "  "
            ]
          },
          "metadata": {},
          "execution_count": 67
        }
      ]
    },
    {
      "cell_type": "markdown",
      "source": [
        "3d) Exibindo as variáveis de interesse em BoxPlot usando o parâmetro `kind='box'` dentro da função `plot()`. Além dos parâmetros `vert=False` para formatar horizontalmente e `figsize=(15,3)` para dimensionar o gráfico. A função `plt.show()` chamada do *Matplotlib* mostra o gráfico criado. Nessa visualização ficam bem claros os outliers de cada variável.\n",
        "\n"
      ],
      "metadata": {
        "id": "Wu7I_63Jr-hM"
      }
    },
    {
      "cell_type": "code",
      "source": [
        "df.price.plot(kind='box', vert=False, figsize=(15,3))\n",
        "plt.show()\n",
        "df.minimum_nights.plot(kind='box', vert=False, figsize=(15,3))\n",
        "plt.show()\n",
        "df.availability_365.plot(kind='box', vert=False, figsize=(15,3))\n",
        "plt.show()"
      ],
      "metadata": {
        "colab": {
          "base_uri": "https://localhost:8080/",
          "height": 599
        },
        "id": "hNKyNZKzr_AV",
        "outputId": "61592386-6ff8-4b57-c766-b6169c805769"
      },
      "execution_count": 68,
      "outputs": [
        {
          "output_type": "display_data",
          "data": {
            "text/plain": [
              "<Figure size 1080x216 with 1 Axes>"
            ],
            "image/png": "[encoded data removed]"
          },
          "metadata": {
            "needs_background": "light"
          }
        },
        {
          "output_type": "display_data",
          "data": {
            "text/plain": [
              "<Figure size 1080x216 with 1 Axes>"
            ],
            "image/png": "[encoded data removed]"
          },
          "metadata": {
            "needs_background": "light"
          }
        },
        {
          "output_type": "display_data",
          "data": {
            "text/plain": [
              "<Figure size 1080x216 with 1 Axes>"
            ],
            "image/png": "[encoded data removed]"
          },
          "metadata": {
            "needs_background": "light"
          }
        }
      ]
    },
    {
      "cell_type": "markdown",
      "source": [
        "3e) Removendo outliers aparando valores do percentil superior e/ou inferior da variável e recriando o histograma, que agora está numa escala apropriada."
      ],
      "metadata": {
        "id": "LAwYCbvlumiM"
      }
    },
    {
      "cell_type": "code",
      "source": [
        "lista_precos = lista_precos[50:950]\n",
        "lista_noites = lista_noites[:950]\n",
        "lista_disponibilidade = lista_disponibilidade[50:]\n",
        "\n",
        "lista_precos.hist(bins=3,figsize=(10,10))\n",
        "plt.show()\n",
        "lista_noites.hist(bins=3,figsize=(10,10))\n",
        "plt.show()\n",
        "lista_disponibilidade.hist(bins=3,figsize=(10,10))\n",
        "plt.show()"
      ],
      "metadata": {
        "colab": {
          "base_uri": "https://localhost:8080/",
          "height": 1000
        },
        "id": "lf5hUEuuv48T",
        "outputId": "b3ba0ebf-db06-4e03-d64d-7aaee8e23ffc"
      },
      "execution_count": 69,
      "outputs": [
        {
          "output_type": "display_data",
          "data": {
            "text/plain": [
              "<Figure size 720x720 with 1 Axes>"
            ],
            "image/png": "[encoded data removed]"
          },
          "metadata": {
            "needs_background": "light"
          }
        },
        {
          "output_type": "display_data",
          "data": {
            "text/plain": [
              "<Figure size 720x720 with 1 Axes>"
            ],
            "image/png": "[encoded data removed]"
          },
          "metadata": {
            "needs_background": "light"
          }
        },
        {
          "output_type": "display_data",
          "data": {
            "text/plain": [
              "<Figure size 720x720 with 1 Axes>"
            ],
            "image/png": "[encoded data removed]"
          },
          "metadata": {
            "needs_background": "light"
          }
        }
      ]
    },
    {
      "cell_type": "markdown",
      "source": [
        "3f) Utilizando a função `corr()` para estabelecer os índices de correlação entre as variáveis escolhidas, os índices em geral estão muitos próximos de zero, o que indica que não há correlação entre eles, exceto pelo número de avaliações por mês e número total de avaliações, que é diretamente proporcional e têm essa relação porque avaliações por mês é uma métrica derivada do total de avaliações."
      ],
      "metadata": {
        "id": "WI8iZaJC3F_D"
      }
    },
    {
      "cell_type": "code",
      "source": [
        "correlacao = df[['price','minimum_nights','availability_365', 'number_of_reviews', 'reviews_per_month']].corr()\n",
        "print(correlacao)"
      ],
      "metadata": {
        "colab": {
          "base_uri": "https://localhost:8080/"
        },
        "id": "4YvT7r063GTI",
        "outputId": "07eafec9-3777-40b1-c7c0-b284bb5d6805"
      },
      "execution_count": 70,
      "outputs": [
        {
          "output_type": "stream",
          "name": "stdout",
          "text": [
            "                      price  minimum_nights  availability_365  \\\n",
            "price              1.000000       -0.058566          0.126543   \n",
            "minimum_nights    -0.058566        1.000000          0.066971   \n",
            "availability_365   0.126543        0.066971          1.000000   \n",
            "number_of_reviews -0.065973       -0.073866         -0.002163   \n",
            "reviews_per_month -0.111839       -0.147998          0.100244   \n",
            "\n",
            "                   number_of_reviews  reviews_per_month  \n",
            "price                      -0.065973          -0.111839  \n",
            "minimum_nights             -0.073866          -0.147998  \n",
            "availability_365           -0.002163           0.100244  \n",
            "number_of_reviews           1.000000           0.576331  \n",
            "reviews_per_month           0.576331           1.000000  \n"
          ]
        }
      ]
    },
    {
      "cell_type": "markdown",
      "source": [
        "3g) Mostrando o tipo de imóvel mais alugado na região, através da listagem de tipos de imóvel com o respectivo total de avaliações, agrupados por tipo de imóvel com a função `groupby()`. Na região, o tipo de aluguel mais popular é de casas/apartamentos inteiros."
      ],
      "metadata": {
        "id": "qX4sqJ-o536D"
      }
    },
    {
      "cell_type": "code",
      "source": [
        "df.groupby('room_type')['number_of_reviews'].sum().sort_values(ascending=False)"
      ],
      "metadata": {
        "colab": {
          "base_uri": "https://localhost:8080/"
        },
        "id": "45-viIE-57XR",
        "outputId": "9e266366-c240-4725-d3e0-e87739abbe32"
      },
      "execution_count": 71,
      "outputs": [
        {
          "output_type": "execute_result",
          "data": {
            "text/plain": [
              "room_type\n",
              "Entire home/apt    44186\n",
              "Private room       14421\n",
              "Hotel room           374\n",
              "Shared room           50\n",
              "Name: number_of_reviews, dtype: int64"
            ]
          },
          "metadata": {},
          "execution_count": 71
        }
      ]
    },
    {
      "cell_type": "markdown",
      "source": [
        "3h) Mostrando o bairro mais caro da região, através da listagem de bairros com suas respectivas médias de preço, agrupando os bairros com a função `groupby()`. O bairro mais caro da região é Moscou - Vogelhoek."
      ],
      "metadata": {
        "id": "c-rwBc6e6J7B"
      }
    },
    {
      "cell_type": "code",
      "source": [
        "df.groupby('neighbourhood')['price'].mean().sort_values(ascending=False)"
      ],
      "metadata": {
        "colab": {
          "base_uri": "https://localhost:8080/"
        },
        "id": "ZMI1DWb26KTy",
        "outputId": "33466b6f-8df2-4492-87f5-14a19d45cbed"
      },
      "execution_count": 72,
      "outputs": [
        {
          "output_type": "execute_result",
          "data": {
            "text/plain": [
              "neighbourhood\n",
              "Moscou - Vogelhoek                 216.400000\n",
              "Drongen                            139.444444\n",
              "Sint Denijs Westrem                137.217391\n",
              "Rabot  - Blaisantvest              127.714286\n",
              "Binnenstad                         122.915179\n",
              "Kanaaldorpen en -zone              121.600000\n",
              "Sluizeken - Tolhuis - Ham          115.392857\n",
              "Stationsbuurt Noord                105.927536\n",
              "Wondelgem                          104.608696\n",
              "Elisabethbegijnhof - Papegaai      104.559701\n",
              "Muide - Meulestede - Afrikalaan    100.800000\n",
              "Stationsbuurt Zuid                 100.500000\n",
              "Macharius - Heirnis                 96.437500\n",
              "Bloemekenswijk                      95.727273\n",
              "Zwijnaarde                          90.840000\n",
              "Oostakker                           90.750000\n",
              "Dampoort                            85.097561\n",
              "Watersportbaan - Ekkergem           84.954545\n",
              "Mariakerke                          84.545455\n",
              "Sint Amandsberg                     84.410714\n",
              "Ledeberg                            83.586957\n",
              "Brugse Poort - Rooigem              77.730769\n",
              "Gentbrugge                          77.157895\n",
              "Oud Gentbrugge                      76.571429\n",
              "Nieuw Gent - UZ                     67.300000\n",
              "Name: price, dtype: float64"
            ]
          },
          "metadata": {},
          "execution_count": 72
        }
      ]
    }
  ]
}