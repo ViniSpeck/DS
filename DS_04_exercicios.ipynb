{
  "nbformat": 4,
  "nbformat_minor": 0,
  "metadata": {
    "colab": {
      "provenance": [],
      "mount_file_id": "1_DgpZOy_dNIYJQv9T31RcKDeozkgU83G",
      "authorship_tag": "ABX9TyPxC1uqaNTZl1+aKdZcDP7r",
      "include_colab_link": true
    },
    "kernelspec": {
      "name": "python3",
      "display_name": "Python 3"
    },
    "language_info": {
      "name": "python"
    }
  },
  "cells": [
    {
      "cell_type": "markdown",
      "metadata": {
        "id": "view-in-github",
        "colab_type": "text"
      },
      "source": [
        "<a href=\"https://colab.research.google.com/github/ViniSpeck/DS/blob/main/DS_04_exercicios.ipynb\" target=\"_parent\"><img src=\"https://colab.research.google.com/assets/colab-badge.svg\" alt=\"Open In Colab\"/></a>"
      ]
    },
    {
      "cell_type": "markdown",
      "source": [
        "Exercício 1 - Base de ocorrências da aviação civil"
      ],
      "metadata": {
        "id": "rUNOcxPn8qtc"
      }
    },
    {
      "cell_type": "markdown",
      "source": [
        "1) Importando as bibliotecas e base"
      ],
      "metadata": {
        "id": "Jba_f2wI9UUJ"
      }
    },
    {
      "cell_type": "code",
      "execution_count": 118,
      "metadata": {
        "id": "F_eSG9YP6_HF"
      },
      "outputs": [],
      "source": [
        "import pandas as pd\n",
        "import matplotlib.pyplot as plt\n",
        "import seaborn as sns\n",
        "from scipy import stats\n",
        "%matplotlib inline\n",
        "\n",
        "df=pd.read_csv(\"https://catolicasc.sharepoint.com/sites/82606_1237_2/_layouts/15/download.aspx?UniqueId=ebee64af-d226-4dd0-b042-9dcd89fb1ae1&Translate=false&tempauth=eyJ0eXAiOiJKV1QiLCJhbGciOiJub25lIn0.eyJhdWQiOiIwMDAwMDAwMy0wMDAwLTBmZjEtY2UwMC0wMDAwMDAwMDAwMDAvY2F0b2xpY2FzYy5zaGFyZXBvaW50LmNvbUAxYjhhZWQ0NC1hN2QwLTQwOWMtOTc5Ni1iMjY0NTk0OTg2YTAiLCJpc3MiOiIwMDAwMDAwMy0wMDAwLTBmZjEtY2UwMC0wMDAwMDAwMDAwMDAiLCJuYmYiOiIxNjYzMTEzMTUwIiwiZXhwIjoiMTY2MzExNjc1MCIsImVuZHBvaW50dXJsIjoiVkZnVnMvVnM0VkIvS2ozV0ZwU0J1VkE3Qk90bStXZnVmQnMzUmZsYUgrST0iLCJlbmRwb2ludHVybExlbmd0aCI6IjE0MCIsImlzbG9vcGJhY2siOiJUcnVlIiwiY2lkIjoiT1RsbVkyRXlNVEl0TkRBeE5pMDBNalE0TFRobFltVXRPRFEyTXpFd01XTmxPVEEzIiwidmVyIjoiaGFzaGVkcHJvb2Z0b2tlbiIsInNpdGVpZCI6Ik1EZzFNREk0WWpZdFptRmlZaTAwTUdJMkxXSXpORGt0TmpBellqSTJaamd4WVRsaCIsImFwcF9kaXNwbGF5bmFtZSI6Ik1pY3Jvc29mdCBUZWFtcyBXZWIgQ2xpZW50IiwiZ2l2ZW5fbmFtZSI6IlZJTsONQ0lVUyIsImZhbWlseV9uYW1lIjoiU1BFQ0siLCJzaWduaW5fc3RhdGUiOiJbXCJrbXNpXCJdIiwiYXBwaWQiOiI1ZTNjZTZjMC0yYjFmLTQyODUtOGQ0Yi03NWVlNzg3ODczNDYiLCJ0aWQiOiIxYjhhZWQ0NC1hN2QwLTQwOWMtOTc5Ni1iMjY0NTk0OTg2YTAiLCJ1cG4iOiJ2aW5pY2l1cy5zcGVja0BjYXRvbGljYXNjLmVkdS5iciIsInB1aWQiOiIxMDAzMjAwMDVBN0RFMUJDIiwiY2FjaGVrZXkiOiIwaC5mfG1lbWJlcnNoaXB8MTAwMzIwMDA1YTdkZTFiY0BsaXZlLmNvbSIsInNjcCI6ImFsbGZpbGVzLndyaXRlIGdyb3VwLnJlYWQgYWxsc2l0ZXMud3JpdGUiLCJ0dCI6IjIiLCJ1c2VQZXJzaXN0ZW50Q29va2llIjpudWxsLCJpcGFkZHIiOiIyMC4xOTAuMTczLjI1In0.WjhaSHI4a25QQUFGeERHWXhxSHgvNllWenRPcmJVT2IyY3lGODRPZU5sdz0&ApiVersion=2.0\")"
      ]
    },
    {
      "cell_type": "markdown",
      "source": [
        "2) Exibindo a quantidade de entradas (linhas) e variáveis (colunas) utilizando o método `shape`"
      ],
      "metadata": {
        "id": "OWooJg07-u6j"
      }
    },
    {
      "cell_type": "code",
      "source": [
        "print(\"Entradas:\", df.shape[0])\n",
        "print(\"Variáveis:\", df.shape[1])"
      ],
      "metadata": {
        "colab": {
          "base_uri": "https://localhost:8080/"
        },
        "id": "zBz0iVUv-3TW",
        "outputId": "4626408e-0e56-4db4-bb14-1fcb35204199"
      },
      "execution_count": 119,
      "outputs": [
        {
          "output_type": "stream",
          "name": "stdout",
          "text": [
            "Entradas: 5208\n",
            "Variáveis: 22\n"
          ]
        }
      ]
    },
    {
      "cell_type": "markdown",
      "source": [
        "3) Verificando os tipos das variáveis (colunas)"
      ],
      "metadata": {
        "id": "qRBAtcia_BdE"
      }
    },
    {
      "cell_type": "code",
      "source": [
        "df.dtypes"
      ],
      "metadata": {
        "colab": {
          "base_uri": "https://localhost:8080/"
        },
        "id": "nSrK5vbM_B4I",
        "outputId": "c1ee67cd-057d-445c-e621-b311915f2078"
      },
      "execution_count": 120,
      "outputs": [
        {
          "output_type": "execute_result",
          "data": {
            "text/plain": [
              "codigo_ocorrencia                   int64\n",
              "ocorrencia_classificacao           object\n",
              "ocorrencia_tipo                    object\n",
              "ocorrencia_tipo_categoria          object\n",
              "ocorrencia_tipo_icao               object\n",
              "ocorrencia_latitude               float64\n",
              "ocorrencia_longitude              float64\n",
              "ocorrencia_cidade                  object\n",
              "ocorrencia_uf                      object\n",
              "ocorrencia_pais                    object\n",
              "ocorrencia_aerodromo               object\n",
              "ocorrencia_dia                     object\n",
              "ocorrencia_horario                 object\n",
              "investigacao_aeronave_liberada     object\n",
              "investigacao_status                object\n",
              "divulgacao_relatorio_numero        object\n",
              "divulgacao_relatorio_publicado     object\n",
              "divulgacao_dia_publicacao          object\n",
              "total_recomendacoes                 int64\n",
              "total_aeronaves_envolvidas          int64\n",
              "ocorrencia_saida_pista             object\n",
              "ocorrencia_dia_extracao            object\n",
              "dtype: object"
            ]
          },
          "metadata": {},
          "execution_count": 120
        }
      ]
    },
    {
      "cell_type": "markdown",
      "source": [
        "4) Utilizando a função `head()` para ver as 10 primeiras linhas"
      ],
      "metadata": {
        "id": "y0Juqnk0_eqY"
      }
    },
    {
      "cell_type": "code",
      "source": [
        "df.head(10)"
      ],
      "metadata": {
        "colab": {
          "base_uri": "https://localhost:8080/",
          "height": 699
        },
        "id": "IC24bTwo_e5N",
        "outputId": "1d751935-f783-483f-d3f2-5470fa29f26e"
      },
      "execution_count": 121,
      "outputs": [
        {
          "output_type": "execute_result",
          "data": {
            "text/plain": [
              "   codigo_ocorrencia ocorrencia_classificacao  \\\n",
              "0    201305055424986                 ACIDENTE   \n",
              "1    201605160250139          INCIDENTE GRAVE   \n",
              "2    201805021421302                INCIDENTE   \n",
              "3    201311259977425          INCIDENTE GRAVE   \n",
              "4    201103187273112                INCIDENTE   \n",
              "5    200808073991179                 ACIDENTE   \n",
              "6    201108118145873                 ACIDENTE   \n",
              "7    201604251335501          INCIDENTE GRAVE   \n",
              "8    201604062021424                 ACIDENTE   \n",
              "9    200902274965349                INCIDENTE   \n",
              "\n",
              "                                     ocorrencia_tipo  \\\n",
              "0                              FALHA DO MOTOR EM VOO   \n",
              "1  COLISÃO COM OBSTÁCULO DURANTE A DECOLAGEM E POUSO   \n",
              "2                                          AERÓDROMO   \n",
              "3                                     POUSO SEM TREM   \n",
              "4                                             OUTROS   \n",
              "5                          PERDA DE CONTROLE NO SOLO   \n",
              "6                                        POUSO LONGO   \n",
              "7                                      TRÁFEGO AÉREO   \n",
              "8                          PERDA DE CONTROLE NO SOLO   \n",
              "9                          PERDA DE CONTROLE NO SOLO   \n",
              "\n",
              "                           ocorrencia_tipo_categoria ocorrencia_tipo_icao  \\\n",
              "0                FALHA OU MAU FUNCIONAMENTO DO MOTOR               SCF-PP   \n",
              "1  COLISÃO COM OBSTÁCULO DURANTE A DECOLAGEM E POUSO                 CTOL   \n",
              "2                                          AERÓDROMO                 ADRM   \n",
              "3                        CONTATO ANORMAL COM A PISTA                  ARC   \n",
              "4                                             OUTROS                 OTHR   \n",
              "5                          PERDA DE CONTROLE NO SOLO                LOC-G   \n",
              "6                                  EXCURSÃO DE PISTA                   RE   \n",
              "7                PERDA DE SEPARAÇÃO / COLISÃO EM VOO                  MAC   \n",
              "8                          PERDA DE CONTROLE NO SOLO                LOC-G   \n",
              "9                          PERDA DE CONTROLE NO SOLO                LOC-G   \n",
              "\n",
              "   ocorrencia_latitude  ocorrencia_longitude ocorrencia_cidade ocorrencia_uf  \\\n",
              "0              -9.9085              -63.0333         ARIQUEMES            RO   \n",
              "1             -11.2644              -61.2589            CACOAL            RO   \n",
              "2             -11.4956              -61.4508            CACOAL            RO   \n",
              "3             -11.4956              -61.4508            CACOAL            RO   \n",
              "4             -13.1950              -60.8184        CEREJEIRAS            RO   \n",
              "5              -9.1194              -68.5978        CEREJEIRAS            RO   \n",
              "6               3.7119              -64.1625           AMAJARI            RR   \n",
              "7               3.5544              -61.8694           AMAJARI            RR   \n",
              "8               3.7633              -62.4094           AMAJARI            RR   \n",
              "9               3.6521              -61.4206           AMAJARI            RR   \n",
              "\n",
              "  ocorrencia_pais  ... ocorrencia_horario investigacao_aeronave_liberada  \\\n",
              "0          BRASIL  ...           11:00:00                            NaN   \n",
              "1          BRASIL  ...           19:19:00                            SIM   \n",
              "2          BRASIL  ...           22:40:00                            SIM   \n",
              "3          BRASIL  ...           12:32:00                            NaN   \n",
              "4          BRASIL  ...           13:30:00                            NaN   \n",
              "5          BRASIL  ...           15:10:00                            NaN   \n",
              "6          BRASIL  ...           17:00:00                            NaN   \n",
              "7          BRASIL  ...           05:48:00                            SIM   \n",
              "8          BRASIL  ...           16:05:00                            SIM   \n",
              "9          BRASIL  ...           16:30:00                            NaN   \n",
              "\n",
              "  investigacao_status divulgacao_relatorio_numero  \\\n",
              "0          FINALIZADA                         ***   \n",
              "1               ATIVA          IG-084/CENIPA/2016   \n",
              "2          FINALIZADA                         ***   \n",
              "3          FINALIZADA          IG-209/CENIPA/2013   \n",
              "4          FINALIZADA                         ***   \n",
              "5          FINALIZADA         A - 517/CENIPA/2016   \n",
              "6          FINALIZADA           A-105/CENIPA/2012   \n",
              "7               ATIVA          IG-069/CENIPA/2016   \n",
              "8          FINALIZADA           A-063/CENIPA/2016   \n",
              "9          FINALIZADA                         ***   \n",
              "\n",
              "  divulgacao_relatorio_publicado divulgacao_dia_publicacao  \\\n",
              "0                            NÃO                       NaN   \n",
              "1                            NÃO                       NaN   \n",
              "2                            NÃO                       NaN   \n",
              "3                            SIM                2014-04-07   \n",
              "4                            NÃO                       NaN   \n",
              "5                            SIM                2016-07-07   \n",
              "6                            SIM                2012-09-20   \n",
              "7                            NÃO                       NaN   \n",
              "8                            SIM                2017-06-22   \n",
              "9                            NÃO                       NaN   \n",
              "\n",
              "  total_recomendacoes total_aeronaves_envolvidas  ocorrencia_saida_pista  \\\n",
              "0                   0                          1                     NÃO   \n",
              "1                   0                          1                     NÃO   \n",
              "2                   0                          1                     NÃO   \n",
              "3                   0                          1                     NÃO   \n",
              "4                   0                          1                     NÃO   \n",
              "5                   0                          1                     SIM   \n",
              "6                   4                          1                     NÃO   \n",
              "7                   0                          2                     NÃO   \n",
              "8                   2                          1                     SIM   \n",
              "9                   0                          1                     SIM   \n",
              "\n",
              "   ocorrencia_dia_extracao  \n",
              "0               2018-08-28  \n",
              "1               2018-08-28  \n",
              "2               2018-08-28  \n",
              "3               2018-08-28  \n",
              "4               2018-08-28  \n",
              "5               2018-08-28  \n",
              "6               2018-08-28  \n",
              "7               2018-08-28  \n",
              "8               2018-08-28  \n",
              "9               2018-08-28  \n",
              "\n",
              "[10 rows x 22 columns]"
            ],
            "text/html": [
              "\n",
              "  <div id=\"df-7d39aa63-3017-4c2d-bcdb-5123937115d5\">\n",
              "    <div class=\"colab-df-container\">\n",
              "      <div>\n",
              "<style scoped>\n",
              "    .dataframe tbody tr th:only-of-type {\n",
              "        vertical-align: middle;\n",
              "    }\n",
              "\n",
              "    .dataframe tbody tr th {\n",
              "        vertical-align: top;\n",
              "    }\n",
              "\n",
              "    .dataframe thead th {\n",
              "        text-align: right;\n",
              "    }\n",
              "</style>\n",
              "<table border=\"1\" class=\"dataframe\">\n",
              "  <thead>\n",
              "    <tr style=\"text-align: right;\">\n",
              "      <th></th>\n",
              "      <th>codigo_ocorrencia</th>\n",
              "      <th>ocorrencia_classificacao</th>\n",
              "      <th>ocorrencia_tipo</th>\n",
              "      <th>ocorrencia_tipo_categoria</th>\n",
              "      <th>ocorrencia_tipo_icao</th>\n",
              "      <th>ocorrencia_latitude</th>\n",
              "      <th>ocorrencia_longitude</th>\n",
              "      <th>ocorrencia_cidade</th>\n",
              "      <th>ocorrencia_uf</th>\n",
              "      <th>ocorrencia_pais</th>\n",
              "      <th>...</th>\n",
              "      <th>ocorrencia_horario</th>\n",
              "      <th>investigacao_aeronave_liberada</th>\n",
              "      <th>investigacao_status</th>\n",
              "      <th>divulgacao_relatorio_numero</th>\n",
              "      <th>divulgacao_relatorio_publicado</th>\n",
              "      <th>divulgacao_dia_publicacao</th>\n",
              "      <th>total_recomendacoes</th>\n",
              "      <th>total_aeronaves_envolvidas</th>\n",
              "      <th>ocorrencia_saida_pista</th>\n",
              "      <th>ocorrencia_dia_extracao</th>\n",
              "    </tr>\n",
              "  </thead>\n",
              "  <tbody>\n",
              "    <tr>\n",
              "      <th>0</th>\n",
              "      <td>201305055424986</td>\n",
              "      <td>ACIDENTE</td>\n",
              "      <td>FALHA DO MOTOR EM VOO</td>\n",
              "      <td>FALHA OU MAU FUNCIONAMENTO DO MOTOR</td>\n",
              "      <td>SCF-PP</td>\n",
              "      <td>-9.9085</td>\n",
              "      <td>-63.0333</td>\n",
              "      <td>ARIQUEMES</td>\n",
              "      <td>RO</td>\n",
              "      <td>BRASIL</td>\n",
              "      <td>...</td>\n",
              "      <td>11:00:00</td>\n",
              "      <td>NaN</td>\n",
              "      <td>FINALIZADA</td>\n",
              "      <td>***</td>\n",
              "      <td>NÃO</td>\n",
              "      <td>NaN</td>\n",
              "      <td>0</td>\n",
              "      <td>1</td>\n",
              "      <td>NÃO</td>\n",
              "      <td>2018-08-28</td>\n",
              "    </tr>\n",
              "    <tr>\n",
              "      <th>1</th>\n",
              "      <td>201605160250139</td>\n",
              "      <td>INCIDENTE GRAVE</td>\n",
              "      <td>COLISÃO COM OBSTÁCULO DURANTE A DECOLAGEM E POUSO</td>\n",
              "      <td>COLISÃO COM OBSTÁCULO DURANTE A DECOLAGEM E POUSO</td>\n",
              "      <td>CTOL</td>\n",
              "      <td>-11.2644</td>\n",
              "      <td>-61.2589</td>\n",
              "      <td>CACOAL</td>\n",
              "      <td>RO</td>\n",
              "      <td>BRASIL</td>\n",
              "      <td>...</td>\n",
              "      <td>19:19:00</td>\n",
              "      <td>SIM</td>\n",
              "      <td>ATIVA</td>\n",
              "      <td>IG-084/CENIPA/2016</td>\n",
              "      <td>NÃO</td>\n",
              "      <td>NaN</td>\n",
              "      <td>0</td>\n",
              "      <td>1</td>\n",
              "      <td>NÃO</td>\n",
              "      <td>2018-08-28</td>\n",
              "    </tr>\n",
              "    <tr>\n",
              "      <th>2</th>\n",
              "      <td>201805021421302</td>\n",
              "      <td>INCIDENTE</td>\n",
              "      <td>AERÓDROMO</td>\n",
              "      <td>AERÓDROMO</td>\n",
              "      <td>ADRM</td>\n",
              "      <td>-11.4956</td>\n",
              "      <td>-61.4508</td>\n",
              "      <td>CACOAL</td>\n",
              "      <td>RO</td>\n",
              "      <td>BRASIL</td>\n",
              "      <td>...</td>\n",
              "      <td>22:40:00</td>\n",
              "      <td>SIM</td>\n",
              "      <td>FINALIZADA</td>\n",
              "      <td>***</td>\n",
              "      <td>NÃO</td>\n",
              "      <td>NaN</td>\n",
              "      <td>0</td>\n",
              "      <td>1</td>\n",
              "      <td>NÃO</td>\n",
              "      <td>2018-08-28</td>\n",
              "    </tr>\n",
              "    <tr>\n",
              "      <th>3</th>\n",
              "      <td>201311259977425</td>\n",
              "      <td>INCIDENTE GRAVE</td>\n",
              "      <td>POUSO SEM TREM</td>\n",
              "      <td>CONTATO ANORMAL COM A PISTA</td>\n",
              "      <td>ARC</td>\n",
              "      <td>-11.4956</td>\n",
              "      <td>-61.4508</td>\n",
              "      <td>CACOAL</td>\n",
              "      <td>RO</td>\n",
              "      <td>BRASIL</td>\n",
              "      <td>...</td>\n",
              "      <td>12:32:00</td>\n",
              "      <td>NaN</td>\n",
              "      <td>FINALIZADA</td>\n",
              "      <td>IG-209/CENIPA/2013</td>\n",
              "      <td>SIM</td>\n",
              "      <td>2014-04-07</td>\n",
              "      <td>0</td>\n",
              "      <td>1</td>\n",
              "      <td>NÃO</td>\n",
              "      <td>2018-08-28</td>\n",
              "    </tr>\n",
              "    <tr>\n",
              "      <th>4</th>\n",
              "      <td>201103187273112</td>\n",
              "      <td>INCIDENTE</td>\n",
              "      <td>OUTROS</td>\n",
              "      <td>OUTROS</td>\n",
              "      <td>OTHR</td>\n",
              "      <td>-13.1950</td>\n",
              "      <td>-60.8184</td>\n",
              "      <td>CEREJEIRAS</td>\n",
              "      <td>RO</td>\n",
              "      <td>BRASIL</td>\n",
              "      <td>...</td>\n",
              "      <td>13:30:00</td>\n",
              "      <td>NaN</td>\n",
              "      <td>FINALIZADA</td>\n",
              "      <td>***</td>\n",
              "      <td>NÃO</td>\n",
              "      <td>NaN</td>\n",
              "      <td>0</td>\n",
              "      <td>1</td>\n",
              "      <td>NÃO</td>\n",
              "      <td>2018-08-28</td>\n",
              "    </tr>\n",
              "    <tr>\n",
              "      <th>5</th>\n",
              "      <td>200808073991179</td>\n",
              "      <td>ACIDENTE</td>\n",
              "      <td>PERDA DE CONTROLE NO SOLO</td>\n",
              "      <td>PERDA DE CONTROLE NO SOLO</td>\n",
              "      <td>LOC-G</td>\n",
              "      <td>-9.1194</td>\n",
              "      <td>-68.5978</td>\n",
              "      <td>CEREJEIRAS</td>\n",
              "      <td>RO</td>\n",
              "      <td>BRASIL</td>\n",
              "      <td>...</td>\n",
              "      <td>15:10:00</td>\n",
              "      <td>NaN</td>\n",
              "      <td>FINALIZADA</td>\n",
              "      <td>A - 517/CENIPA/2016</td>\n",
              "      <td>SIM</td>\n",
              "      <td>2016-07-07</td>\n",
              "      <td>0</td>\n",
              "      <td>1</td>\n",
              "      <td>SIM</td>\n",
              "      <td>2018-08-28</td>\n",
              "    </tr>\n",
              "    <tr>\n",
              "      <th>6</th>\n",
              "      <td>201108118145873</td>\n",
              "      <td>ACIDENTE</td>\n",
              "      <td>POUSO LONGO</td>\n",
              "      <td>EXCURSÃO DE PISTA</td>\n",
              "      <td>RE</td>\n",
              "      <td>3.7119</td>\n",
              "      <td>-64.1625</td>\n",
              "      <td>AMAJARI</td>\n",
              "      <td>RR</td>\n",
              "      <td>BRASIL</td>\n",
              "      <td>...</td>\n",
              "      <td>17:00:00</td>\n",
              "      <td>NaN</td>\n",
              "      <td>FINALIZADA</td>\n",
              "      <td>A-105/CENIPA/2012</td>\n",
              "      <td>SIM</td>\n",
              "      <td>2012-09-20</td>\n",
              "      <td>4</td>\n",
              "      <td>1</td>\n",
              "      <td>NÃO</td>\n",
              "      <td>2018-08-28</td>\n",
              "    </tr>\n",
              "    <tr>\n",
              "      <th>7</th>\n",
              "      <td>201604251335501</td>\n",
              "      <td>INCIDENTE GRAVE</td>\n",
              "      <td>TRÁFEGO AÉREO</td>\n",
              "      <td>PERDA DE SEPARAÇÃO / COLISÃO EM VOO</td>\n",
              "      <td>MAC</td>\n",
              "      <td>3.5544</td>\n",
              "      <td>-61.8694</td>\n",
              "      <td>AMAJARI</td>\n",
              "      <td>RR</td>\n",
              "      <td>BRASIL</td>\n",
              "      <td>...</td>\n",
              "      <td>05:48:00</td>\n",
              "      <td>SIM</td>\n",
              "      <td>ATIVA</td>\n",
              "      <td>IG-069/CENIPA/2016</td>\n",
              "      <td>NÃO</td>\n",
              "      <td>NaN</td>\n",
              "      <td>0</td>\n",
              "      <td>2</td>\n",
              "      <td>NÃO</td>\n",
              "      <td>2018-08-28</td>\n",
              "    </tr>\n",
              "    <tr>\n",
              "      <th>8</th>\n",
              "      <td>201604062021424</td>\n",
              "      <td>ACIDENTE</td>\n",
              "      <td>PERDA DE CONTROLE NO SOLO</td>\n",
              "      <td>PERDA DE CONTROLE NO SOLO</td>\n",
              "      <td>LOC-G</td>\n",
              "      <td>3.7633</td>\n",
              "      <td>-62.4094</td>\n",
              "      <td>AMAJARI</td>\n",
              "      <td>RR</td>\n",
              "      <td>BRASIL</td>\n",
              "      <td>...</td>\n",
              "      <td>16:05:00</td>\n",
              "      <td>SIM</td>\n",
              "      <td>FINALIZADA</td>\n",
              "      <td>A-063/CENIPA/2016</td>\n",
              "      <td>SIM</td>\n",
              "      <td>2017-06-22</td>\n",
              "      <td>2</td>\n",
              "      <td>1</td>\n",
              "      <td>SIM</td>\n",
              "      <td>2018-08-28</td>\n",
              "    </tr>\n",
              "    <tr>\n",
              "      <th>9</th>\n",
              "      <td>200902274965349</td>\n",
              "      <td>INCIDENTE</td>\n",
              "      <td>PERDA DE CONTROLE NO SOLO</td>\n",
              "      <td>PERDA DE CONTROLE NO SOLO</td>\n",
              "      <td>LOC-G</td>\n",
              "      <td>3.6521</td>\n",
              "      <td>-61.4206</td>\n",
              "      <td>AMAJARI</td>\n",
              "      <td>RR</td>\n",
              "      <td>BRASIL</td>\n",
              "      <td>...</td>\n",
              "      <td>16:30:00</td>\n",
              "      <td>NaN</td>\n",
              "      <td>FINALIZADA</td>\n",
              "      <td>***</td>\n",
              "      <td>NÃO</td>\n",
              "      <td>NaN</td>\n",
              "      <td>0</td>\n",
              "      <td>1</td>\n",
              "      <td>SIM</td>\n",
              "      <td>2018-08-28</td>\n",
              "    </tr>\n",
              "  </tbody>\n",
              "</table>\n",
              "<p>10 rows × 22 columns</p>\n",
              "</div>\n",
              "      <button class=\"colab-df-convert\" onclick=\"convertToInteractive('df-7d39aa63-3017-4c2d-bcdb-5123937115d5')\"\n",
              "              title=\"Convert this dataframe to an interactive table.\"\n",
              "              style=\"display:none;\">\n",
              "        \n",
              "  <svg xmlns=\"http://www.w3.org/2000/svg\" height=\"24px\"viewBox=\"0 0 24 24\"\n",
              "       width=\"24px\">\n",
              "    <path d=\"M0 0h24v24H0V0z\" fill=\"none\"/>\n",
              "    <path d=\"M18.56 5.44l.94 2.06.94-2.06 2.06-.94-2.06-.94-.94-2.06-.94 2.06-2.06.94zm-11 1L8.5 8.5l.94-2.06 2.06-.94-2.06-.94L8.5 2.5l-.94 2.06-2.06.94zm10 10l.94 2.06.94-2.06 2.06-.94-2.06-.94-.94-2.06-.94 2.06-2.06.94z\"/><path d=\"M17.41 7.96l-1.37-1.37c-.4-.4-.92-.59-1.43-.59-.52 0-1.04.2-1.43.59L10.3 9.45l-7.72 7.72c-.78.78-.78 2.05 0 2.83L4 21.41c.39.39.9.59 1.41.59.51 0 1.02-.2 1.41-.59l7.78-7.78 2.81-2.81c.8-.78.8-2.07 0-2.86zM5.41 20L4 18.59l7.72-7.72 1.47 1.35L5.41 20z\"/>\n",
              "  </svg>\n",
              "      </button>\n",
              "      \n",
              "  <style>\n",
              "    .colab-df-container {\n",
              "      display:flex;\n",
              "      flex-wrap:wrap;\n",
              "      gap: 12px;\n",
              "    }\n",
              "\n",
              "    .colab-df-convert {\n",
              "      background-color: #E8F0FE;\n",
              "      border: none;\n",
              "      border-radius: 50%;\n",
              "      cursor: pointer;\n",
              "      display: none;\n",
              "      fill: #1967D2;\n",
              "      height: 32px;\n",
              "      padding: 0 0 0 0;\n",
              "      width: 32px;\n",
              "    }\n",
              "\n",
              "    .colab-df-convert:hover {\n",
              "      background-color: #E2EBFA;\n",
              "      box-shadow: 0px 1px 2px rgba(60, 64, 67, 0.3), 0px 1px 3px 1px rgba(60, 64, 67, 0.15);\n",
              "      fill: #174EA6;\n",
              "    }\n",
              "\n",
              "    [theme=dark] .colab-df-convert {\n",
              "      background-color: #3B4455;\n",
              "      fill: #D2E3FC;\n",
              "    }\n",
              "\n",
              "    [theme=dark] .colab-df-convert:hover {\n",
              "      background-color: #434B5C;\n",
              "      box-shadow: 0px 1px 3px 1px rgba(0, 0, 0, 0.15);\n",
              "      filter: drop-shadow(0px 1px 2px rgba(0, 0, 0, 0.3));\n",
              "      fill: #FFFFFF;\n",
              "    }\n",
              "  </style>\n",
              "\n",
              "      <script>\n",
              "        const buttonEl =\n",
              "          document.querySelector('#df-7d39aa63-3017-4c2d-bcdb-5123937115d5 button.colab-df-convert');\n",
              "        buttonEl.style.display =\n",
              "          google.colab.kernel.accessAllowed ? 'block' : 'none';\n",
              "\n",
              "        async function convertToInteractive(key) {\n",
              "          const element = document.querySelector('#df-7d39aa63-3017-4c2d-bcdb-5123937115d5');\n",
              "          const dataTable =\n",
              "            await google.colab.kernel.invokeFunction('convertToInteractive',\n",
              "                                                     [key], {});\n",
              "          if (!dataTable) return;\n",
              "\n",
              "          const docLinkHtml = 'Like what you see? Visit the ' +\n",
              "            '<a target=\"_blank\" href=https://colab.research.google.com/notebooks/data_table.ipynb>data table notebook</a>'\n",
              "            + ' to learn more about interactive tables.';\n",
              "          element.innerHTML = '';\n",
              "          dataTable['output_type'] = 'display_data';\n",
              "          await google.colab.output.renderOutput(dataTable, element);\n",
              "          const docLink = document.createElement('div');\n",
              "          docLink.innerHTML = docLinkHtml;\n",
              "          element.appendChild(docLink);\n",
              "        }\n",
              "      </script>\n",
              "    </div>\n",
              "  </div>\n",
              "  "
            ]
          },
          "metadata": {},
          "execution_count": 121
        }
      ]
    },
    {
      "cell_type": "markdown",
      "source": [
        "5) Visualizando os valores únicos da variável ocorrencia_classificacao através da função `unique()`"
      ],
      "metadata": {
        "id": "Ws8dB3et_4RK"
      }
    },
    {
      "cell_type": "code",
      "source": [
        "df.ocorrencia_classificacao.unique()"
      ],
      "metadata": {
        "colab": {
          "base_uri": "https://localhost:8080/"
        },
        "id": "ypphipey_4jG",
        "outputId": "49d1551e-5c1a-4920-aef0-4c8520dfcdad"
      },
      "execution_count": 122,
      "outputs": [
        {
          "output_type": "execute_result",
          "data": {
            "text/plain": [
              "array(['ACIDENTE', 'INCIDENTE GRAVE', 'INCIDENTE'], dtype=object)"
            ]
          },
          "metadata": {},
          "execution_count": 122
        }
      ]
    },
    {
      "cell_type": "markdown",
      "source": [
        "6) Visualizando os estados que possuem mais ocorrências com aeronaves ordenados, utilizando as funções `groupby()` para agrupar por estado, `size()` para contar as ocorrências e `sort_values(ascending=False)` para mostrar em ordem decrescente. O estado com mais ocorrências é São Paulo."
      ],
      "metadata": {
        "id": "Jz1lXv1NAyD7"
      }
    },
    {
      "cell_type": "code",
      "source": [
        "df.groupby('ocorrencia_uf').size().sort_values(ascending=False)"
      ],
      "metadata": {
        "colab": {
          "base_uri": "https://localhost:8080/"
        },
        "id": "_1ZlPRg_Aybv",
        "outputId": "d5105864-5f44-4c0d-ec99-6bbca620b07e"
      },
      "execution_count": 123,
      "outputs": [
        {
          "output_type": "execute_result",
          "data": {
            "text/plain": [
              "ocorrencia_uf\n",
              "SP     1207\n",
              "RJ      498\n",
              "MG      476\n",
              "PR      437\n",
              "RS      350\n",
              "GO      268\n",
              "PA      255\n",
              "MT      244\n",
              "AM      219\n",
              "BA      208\n",
              "SC      160\n",
              "DF      151\n",
              "MS      132\n",
              "PE       88\n",
              "CE       75\n",
              "ES       66\n",
              "MA       63\n",
              "TO       54\n",
              "AC       53\n",
              "RR       50\n",
              "PI       39\n",
              "RO       30\n",
              "PB       20\n",
              "SE       18\n",
              "AL       16\n",
              "RN       15\n",
              "AP       13\n",
              "***       3\n",
              "dtype: int64"
            ]
          },
          "metadata": {},
          "execution_count": 123
        }
      ]
    },
    {
      "cell_type": "markdown",
      "source": [
        "7) Calculando a porcentagem de ocorrências FALHA DO MOTOR EM VOO através da divisão da quantidade de entradas com FALHA DO MOTOR EM VOO (utilizando a função `value_counts()`, sobre o número total de ocorrências, utilizando o método `shape`."
      ],
      "metadata": {
        "id": "1iXi2SovCx6A"
      }
    },
    {
      "cell_type": "code",
      "source": [
        "(df.ocorrencia_tipo.value_counts()['FALHA DO MOTOR EM VOO']/df.shape[0])*100"
      ],
      "metadata": {
        "colab": {
          "base_uri": "https://localhost:8080/"
        },
        "id": "vg-rUG-LCyQP",
        "outputId": "6373c7ad-d21c-433c-b874-ce0b48f25232"
      },
      "execution_count": 124,
      "outputs": [
        {
          "output_type": "execute_result",
          "data": {
            "text/plain": [
              "13.095238095238097"
            ]
          },
          "metadata": {},
          "execution_count": 124
        }
      ]
    },
    {
      "cell_type": "markdown",
      "source": [
        "Exercício 2 - Ações BBAS3"
      ],
      "metadata": {
        "id": "0pkQW2OOKFHf"
      }
    },
    {
      "cell_type": "markdown",
      "source": [
        "Importando bibliotecas e base"
      ],
      "metadata": {
        "id": "SLovLhhJKPPO"
      }
    },
    {
      "cell_type": "code",
      "source": [
        "import pandas as pd\n",
        "import matplotlib.pyplot as plt\n",
        "import seaborn as sns\n",
        "from scipy import stats\n",
        "%matplotlib inline\n",
        "\n",
        "df_bbas3=pd.read_csv(\"https://catolicasc.sharepoint.com/sites/82606_1237_2/_layouts/15/download.aspx?UniqueId=46a9e3f2-e1fc-4129-8bf4-f1a34c72e40d&Translate=false&tempauth=eyJ0eXAiOiJKV1QiLCJhbGciOiJub25lIn0.eyJhdWQiOiIwMDAwMDAwMy0wMDAwLTBmZjEtY2UwMC0wMDAwMDAwMDAwMDAvY2F0b2xpY2FzYy5zaGFyZXBvaW50LmNvbUAxYjhhZWQ0NC1hN2QwLTQwOWMtOTc5Ni1iMjY0NTk0OTg2YTAiLCJpc3MiOiIwMDAwMDAwMy0wMDAwLTBmZjEtY2UwMC0wMDAwMDAwMDAwMDAiLCJuYmYiOiIxNjYzMTExMzY0IiwiZXhwIjoiMTY2MzExNDk2NCIsImVuZHBvaW50dXJsIjoieHdqSFpPVUR0Wjd3WlQzeHFnVUpHdytMeXFRb3pXajBEbHgyYjJzVUN0bz0iLCJlbmRwb2ludHVybExlbmd0aCI6IjE0MCIsImlzbG9vcGJhY2siOiJUcnVlIiwiY2lkIjoiT1dRd05qTXdZMlV0TkRrd1lpMDBZVFk0TFdJNFpUWXRaVFJpWkdZeE5tTXlPV0kzIiwidmVyIjoiaGFzaGVkcHJvb2Z0b2tlbiIsInNpdGVpZCI6Ik1EZzFNREk0WWpZdFptRmlZaTAwTUdJMkxXSXpORGt0TmpBellqSTJaamd4WVRsaCIsImFwcF9kaXNwbGF5bmFtZSI6Ik1pY3Jvc29mdCBUZWFtcyBXZWIgQ2xpZW50IiwiZ2l2ZW5fbmFtZSI6IlZJTsONQ0lVUyIsImZhbWlseV9uYW1lIjoiU1BFQ0siLCJzaWduaW5fc3RhdGUiOiJbXCJrbXNpXCJdIiwiYXBwaWQiOiI1ZTNjZTZjMC0yYjFmLTQyODUtOGQ0Yi03NWVlNzg3ODczNDYiLCJ0aWQiOiIxYjhhZWQ0NC1hN2QwLTQwOWMtOTc5Ni1iMjY0NTk0OTg2YTAiLCJ1cG4iOiJ2aW5pY2l1cy5zcGVja0BjYXRvbGljYXNjLmVkdS5iciIsInB1aWQiOiIxMDAzMjAwMDVBN0RFMUJDIiwiY2FjaGVrZXkiOiIwaC5mfG1lbWJlcnNoaXB8MTAwMzIwMDA1YTdkZTFiY0BsaXZlLmNvbSIsInNjcCI6ImFsbGZpbGVzLndyaXRlIGdyb3VwLnJlYWQgYWxsc2l0ZXMud3JpdGUiLCJ0dCI6IjIiLCJ1c2VQZXJzaXN0ZW50Q29va2llIjpudWxsLCJpcGFkZHIiOiIyMC4xOTAuMTczLjI1In0.OGFDZERZZ2F5ZnJJcjFPdjZtREtDdnNYRm9WMVlRd2E4SXpuZkZIVlBaQT0&ApiVersion=2.0\")"
      ],
      "metadata": {
        "id": "h2kCpKVvKOqh"
      },
      "execution_count": 125,
      "outputs": []
    },
    {
      "cell_type": "markdown",
      "source": [
        "3) Utilizando a função `head()` para ver as 5 primeiras linhas"
      ],
      "metadata": {
        "id": "Uf9h7EZcKiN4"
      }
    },
    {
      "cell_type": "code",
      "source": [
        "df_bbas3.head()"
      ],
      "metadata": {
        "colab": {
          "base_uri": "https://localhost:8080/",
          "height": 206
        },
        "id": "axdqAJI6Kin2",
        "outputId": "a6adeee8-4b8d-4100-f7cd-e90f8b779a8d"
      },
      "execution_count": 126,
      "outputs": [
        {
          "output_type": "execute_result",
          "data": {
            "text/plain": [
              "         Data   Abertura     Maximo     Minimo  Fechamento  Ajuste Fech  \\\n",
              "0  2018-09-21  29.730000  30.580000  29.340000   30.580000    28.680056   \n",
              "1  2018-09-24  30.379999  30.700001  29.500000   29.730000    27.882866   \n",
              "2  2018-09-25  29.030001  29.760000  28.809999   29.549999    27.714045   \n",
              "3  2018-09-26  29.650000  29.969999  29.209999   29.450001    27.620264   \n",
              "4  2018-09-27  29.680000  30.299999  29.680000   30.290001    28.408072   \n",
              "\n",
              "     Volume  \n",
              "0  16301600  \n",
              "1  13086900  \n",
              "2  11742900  \n",
              "3  12842400  \n",
              "4   8767900  "
            ],
            "text/html": [
              "\n",
              "  <div id=\"df-aca75621-f599-4c0f-905e-2dc36734d515\">\n",
              "    <div class=\"colab-df-container\">\n",
              "      <div>\n",
              "<style scoped>\n",
              "    .dataframe tbody tr th:only-of-type {\n",
              "        vertical-align: middle;\n",
              "    }\n",
              "\n",
              "    .dataframe tbody tr th {\n",
              "        vertical-align: top;\n",
              "    }\n",
              "\n",
              "    .dataframe thead th {\n",
              "        text-align: right;\n",
              "    }\n",
              "</style>\n",
              "<table border=\"1\" class=\"dataframe\">\n",
              "  <thead>\n",
              "    <tr style=\"text-align: right;\">\n",
              "      <th></th>\n",
              "      <th>Data</th>\n",
              "      <th>Abertura</th>\n",
              "      <th>Maximo</th>\n",
              "      <th>Minimo</th>\n",
              "      <th>Fechamento</th>\n",
              "      <th>Ajuste Fech</th>\n",
              "      <th>Volume</th>\n",
              "    </tr>\n",
              "  </thead>\n",
              "  <tbody>\n",
              "    <tr>\n",
              "      <th>0</th>\n",
              "      <td>2018-09-21</td>\n",
              "      <td>29.730000</td>\n",
              "      <td>30.580000</td>\n",
              "      <td>29.340000</td>\n",
              "      <td>30.580000</td>\n",
              "      <td>28.680056</td>\n",
              "      <td>16301600</td>\n",
              "    </tr>\n",
              "    <tr>\n",
              "      <th>1</th>\n",
              "      <td>2018-09-24</td>\n",
              "      <td>30.379999</td>\n",
              "      <td>30.700001</td>\n",
              "      <td>29.500000</td>\n",
              "      <td>29.730000</td>\n",
              "      <td>27.882866</td>\n",
              "      <td>13086900</td>\n",
              "    </tr>\n",
              "    <tr>\n",
              "      <th>2</th>\n",
              "      <td>2018-09-25</td>\n",
              "      <td>29.030001</td>\n",
              "      <td>29.760000</td>\n",
              "      <td>28.809999</td>\n",
              "      <td>29.549999</td>\n",
              "      <td>27.714045</td>\n",
              "      <td>11742900</td>\n",
              "    </tr>\n",
              "    <tr>\n",
              "      <th>3</th>\n",
              "      <td>2018-09-26</td>\n",
              "      <td>29.650000</td>\n",
              "      <td>29.969999</td>\n",
              "      <td>29.209999</td>\n",
              "      <td>29.450001</td>\n",
              "      <td>27.620264</td>\n",
              "      <td>12842400</td>\n",
              "    </tr>\n",
              "    <tr>\n",
              "      <th>4</th>\n",
              "      <td>2018-09-27</td>\n",
              "      <td>29.680000</td>\n",
              "      <td>30.299999</td>\n",
              "      <td>29.680000</td>\n",
              "      <td>30.290001</td>\n",
              "      <td>28.408072</td>\n",
              "      <td>8767900</td>\n",
              "    </tr>\n",
              "  </tbody>\n",
              "</table>\n",
              "</div>\n",
              "      <button class=\"colab-df-convert\" onclick=\"convertToInteractive('df-aca75621-f599-4c0f-905e-2dc36734d515')\"\n",
              "              title=\"Convert this dataframe to an interactive table.\"\n",
              "              style=\"display:none;\">\n",
              "        \n",
              "  <svg xmlns=\"http://www.w3.org/2000/svg\" height=\"24px\"viewBox=\"0 0 24 24\"\n",
              "       width=\"24px\">\n",
              "    <path d=\"M0 0h24v24H0V0z\" fill=\"none\"/>\n",
              "    <path d=\"M18.56 5.44l.94 2.06.94-2.06 2.06-.94-2.06-.94-.94-2.06-.94 2.06-2.06.94zm-11 1L8.5 8.5l.94-2.06 2.06-.94-2.06-.94L8.5 2.5l-.94 2.06-2.06.94zm10 10l.94 2.06.94-2.06 2.06-.94-2.06-.94-.94-2.06-.94 2.06-2.06.94z\"/><path d=\"M17.41 7.96l-1.37-1.37c-.4-.4-.92-.59-1.43-.59-.52 0-1.04.2-1.43.59L10.3 9.45l-7.72 7.72c-.78.78-.78 2.05 0 2.83L4 21.41c.39.39.9.59 1.41.59.51 0 1.02-.2 1.41-.59l7.78-7.78 2.81-2.81c.8-.78.8-2.07 0-2.86zM5.41 20L4 18.59l7.72-7.72 1.47 1.35L5.41 20z\"/>\n",
              "  </svg>\n",
              "      </button>\n",
              "      \n",
              "  <style>\n",
              "    .colab-df-container {\n",
              "      display:flex;\n",
              "      flex-wrap:wrap;\n",
              "      gap: 12px;\n",
              "    }\n",
              "\n",
              "    .colab-df-convert {\n",
              "      background-color: #E8F0FE;\n",
              "      border: none;\n",
              "      border-radius: 50%;\n",
              "      cursor: pointer;\n",
              "      display: none;\n",
              "      fill: #1967D2;\n",
              "      height: 32px;\n",
              "      padding: 0 0 0 0;\n",
              "      width: 32px;\n",
              "    }\n",
              "\n",
              "    .colab-df-convert:hover {\n",
              "      background-color: #E2EBFA;\n",
              "      box-shadow: 0px 1px 2px rgba(60, 64, 67, 0.3), 0px 1px 3px 1px rgba(60, 64, 67, 0.15);\n",
              "      fill: #174EA6;\n",
              "    }\n",
              "\n",
              "    [theme=dark] .colab-df-convert {\n",
              "      background-color: #3B4455;\n",
              "      fill: #D2E3FC;\n",
              "    }\n",
              "\n",
              "    [theme=dark] .colab-df-convert:hover {\n",
              "      background-color: #434B5C;\n",
              "      box-shadow: 0px 1px 3px 1px rgba(0, 0, 0, 0.15);\n",
              "      filter: drop-shadow(0px 1px 2px rgba(0, 0, 0, 0.3));\n",
              "      fill: #FFFFFF;\n",
              "    }\n",
              "  </style>\n",
              "\n",
              "      <script>\n",
              "        const buttonEl =\n",
              "          document.querySelector('#df-aca75621-f599-4c0f-905e-2dc36734d515 button.colab-df-convert');\n",
              "        buttonEl.style.display =\n",
              "          google.colab.kernel.accessAllowed ? 'block' : 'none';\n",
              "\n",
              "        async function convertToInteractive(key) {\n",
              "          const element = document.querySelector('#df-aca75621-f599-4c0f-905e-2dc36734d515');\n",
              "          const dataTable =\n",
              "            await google.colab.kernel.invokeFunction('convertToInteractive',\n",
              "                                                     [key], {});\n",
              "          if (!dataTable) return;\n",
              "\n",
              "          const docLinkHtml = 'Like what you see? Visit the ' +\n",
              "            '<a target=\"_blank\" href=https://colab.research.google.com/notebooks/data_table.ipynb>data table notebook</a>'\n",
              "            + ' to learn more about interactive tables.';\n",
              "          element.innerHTML = '';\n",
              "          dataTable['output_type'] = 'display_data';\n",
              "          await google.colab.output.renderOutput(dataTable, element);\n",
              "          const docLink = document.createElement('div');\n",
              "          docLink.innerHTML = docLinkHtml;\n",
              "          element.appendChild(docLink);\n",
              "        }\n",
              "      </script>\n",
              "    </div>\n",
              "  </div>\n",
              "  "
            ]
          },
          "metadata": {},
          "execution_count": 126
        }
      ]
    },
    {
      "cell_type": "markdown",
      "source": [
        "4) Visualizando os dados da ação no dia 04 de Outubro de 2018 utilizando o parâmetro `df_bbas3['Data']=='2018-10-04'` no Dataframe.\n",
        "\n"
      ],
      "metadata": {
        "id": "XXNhOit2LVUt"
      }
    },
    {
      "cell_type": "code",
      "source": [
        "df_bbas3[df_bbas3['Data']=='2018-10-04']"
      ],
      "metadata": {
        "colab": {
          "base_uri": "https://localhost:8080/",
          "height": 81
        },
        "id": "7lRFPkldLV0H",
        "outputId": "26e47e2a-6b8e-424b-8e4a-691f89378daa"
      },
      "execution_count": 127,
      "outputs": [
        {
          "output_type": "execute_result",
          "data": {
            "text/plain": [
              "         Data  Abertura     Maximo  Minimo  Fechamento  Ajuste Fech    Volume\n",
              "9  2018-10-04     33.68  35.880001   33.52   35.119999    32.937988  27920000"
            ],
            "text/html": [
              "\n",
              "  <div id=\"df-609ac130-1d34-40d3-a1f7-936d40aa4300\">\n",
              "    <div class=\"colab-df-container\">\n",
              "      <div>\n",
              "<style scoped>\n",
              "    .dataframe tbody tr th:only-of-type {\n",
              "        vertical-align: middle;\n",
              "    }\n",
              "\n",
              "    .dataframe tbody tr th {\n",
              "        vertical-align: top;\n",
              "    }\n",
              "\n",
              "    .dataframe thead th {\n",
              "        text-align: right;\n",
              "    }\n",
              "</style>\n",
              "<table border=\"1\" class=\"dataframe\">\n",
              "  <thead>\n",
              "    <tr style=\"text-align: right;\">\n",
              "      <th></th>\n",
              "      <th>Data</th>\n",
              "      <th>Abertura</th>\n",
              "      <th>Maximo</th>\n",
              "      <th>Minimo</th>\n",
              "      <th>Fechamento</th>\n",
              "      <th>Ajuste Fech</th>\n",
              "      <th>Volume</th>\n",
              "    </tr>\n",
              "  </thead>\n",
              "  <tbody>\n",
              "    <tr>\n",
              "      <th>9</th>\n",
              "      <td>2018-10-04</td>\n",
              "      <td>33.68</td>\n",
              "      <td>35.880001</td>\n",
              "      <td>33.52</td>\n",
              "      <td>35.119999</td>\n",
              "      <td>32.937988</td>\n",
              "      <td>27920000</td>\n",
              "    </tr>\n",
              "  </tbody>\n",
              "</table>\n",
              "</div>\n",
              "      <button class=\"colab-df-convert\" onclick=\"convertToInteractive('df-609ac130-1d34-40d3-a1f7-936d40aa4300')\"\n",
              "              title=\"Convert this dataframe to an interactive table.\"\n",
              "              style=\"display:none;\">\n",
              "        \n",
              "  <svg xmlns=\"http://www.w3.org/2000/svg\" height=\"24px\"viewBox=\"0 0 24 24\"\n",
              "       width=\"24px\">\n",
              "    <path d=\"M0 0h24v24H0V0z\" fill=\"none\"/>\n",
              "    <path d=\"M18.56 5.44l.94 2.06.94-2.06 2.06-.94-2.06-.94-.94-2.06-.94 2.06-2.06.94zm-11 1L8.5 8.5l.94-2.06 2.06-.94-2.06-.94L8.5 2.5l-.94 2.06-2.06.94zm10 10l.94 2.06.94-2.06 2.06-.94-2.06-.94-.94-2.06-.94 2.06-2.06.94z\"/><path d=\"M17.41 7.96l-1.37-1.37c-.4-.4-.92-.59-1.43-.59-.52 0-1.04.2-1.43.59L10.3 9.45l-7.72 7.72c-.78.78-.78 2.05 0 2.83L4 21.41c.39.39.9.59 1.41.59.51 0 1.02-.2 1.41-.59l7.78-7.78 2.81-2.81c.8-.78.8-2.07 0-2.86zM5.41 20L4 18.59l7.72-7.72 1.47 1.35L5.41 20z\"/>\n",
              "  </svg>\n",
              "      </button>\n",
              "      \n",
              "  <style>\n",
              "    .colab-df-container {\n",
              "      display:flex;\n",
              "      flex-wrap:wrap;\n",
              "      gap: 12px;\n",
              "    }\n",
              "\n",
              "    .colab-df-convert {\n",
              "      background-color: #E8F0FE;\n",
              "      border: none;\n",
              "      border-radius: 50%;\n",
              "      cursor: pointer;\n",
              "      display: none;\n",
              "      fill: #1967D2;\n",
              "      height: 32px;\n",
              "      padding: 0 0 0 0;\n",
              "      width: 32px;\n",
              "    }\n",
              "\n",
              "    .colab-df-convert:hover {\n",
              "      background-color: #E2EBFA;\n",
              "      box-shadow: 0px 1px 2px rgba(60, 64, 67, 0.3), 0px 1px 3px 1px rgba(60, 64, 67, 0.15);\n",
              "      fill: #174EA6;\n",
              "    }\n",
              "\n",
              "    [theme=dark] .colab-df-convert {\n",
              "      background-color: #3B4455;\n",
              "      fill: #D2E3FC;\n",
              "    }\n",
              "\n",
              "    [theme=dark] .colab-df-convert:hover {\n",
              "      background-color: #434B5C;\n",
              "      box-shadow: 0px 1px 3px 1px rgba(0, 0, 0, 0.15);\n",
              "      filter: drop-shadow(0px 1px 2px rgba(0, 0, 0, 0.3));\n",
              "      fill: #FFFFFF;\n",
              "    }\n",
              "  </style>\n",
              "\n",
              "      <script>\n",
              "        const buttonEl =\n",
              "          document.querySelector('#df-609ac130-1d34-40d3-a1f7-936d40aa4300 button.colab-df-convert');\n",
              "        buttonEl.style.display =\n",
              "          google.colab.kernel.accessAllowed ? 'block' : 'none';\n",
              "\n",
              "        async function convertToInteractive(key) {\n",
              "          const element = document.querySelector('#df-609ac130-1d34-40d3-a1f7-936d40aa4300');\n",
              "          const dataTable =\n",
              "            await google.colab.kernel.invokeFunction('convertToInteractive',\n",
              "                                                     [key], {});\n",
              "          if (!dataTable) return;\n",
              "\n",
              "          const docLinkHtml = 'Like what you see? Visit the ' +\n",
              "            '<a target=\"_blank\" href=https://colab.research.google.com/notebooks/data_table.ipynb>data table notebook</a>'\n",
              "            + ' to learn more about interactive tables.';\n",
              "          element.innerHTML = '';\n",
              "          dataTable['output_type'] = 'display_data';\n",
              "          await google.colab.output.renderOutput(dataTable, element);\n",
              "          const docLink = document.createElement('div');\n",
              "          docLink.innerHTML = docLinkHtml;\n",
              "          element.appendChild(docLink);\n",
              "        }\n",
              "      </script>\n",
              "    </div>\n",
              "  </div>\n",
              "  "
            ]
          },
          "metadata": {},
          "execution_count": 127
        }
      ]
    },
    {
      "cell_type": "markdown",
      "source": [
        "5) Verificando a média do volume sobre todo o período com a função `mean()`"
      ],
      "metadata": {
        "id": "KMOUU3erNZaq"
      }
    },
    {
      "cell_type": "code",
      "source": [
        "df_bbas3['Volume'].mean()"
      ],
      "metadata": {
        "colab": {
          "base_uri": "https://localhost:8080/"
        },
        "id": "5P2DDZRjNZrS",
        "outputId": "0906838c-fbaa-49a8-f7e0-1dd29e9ab828"
      },
      "execution_count": 128,
      "outputs": [
        {
          "output_type": "execute_result",
          "data": {
            "text/plain": [
              "11928526.016260162"
            ]
          },
          "metadata": {},
          "execution_count": 128
        }
      ]
    },
    {
      "cell_type": "markdown",
      "source": [
        "Exercício 3 - Projeto +BIKE "
      ],
      "metadata": {
        "id": "b7fydNTlNpIK"
      }
    },
    {
      "cell_type": "markdown",
      "source": [
        "Importando bibliotecas e base"
      ],
      "metadata": {
        "id": "8wixGQQPNpvd"
      }
    },
    {
      "cell_type": "code",
      "source": [
        "import pandas as pd\n",
        "import matplotlib.pyplot as plt\n",
        "import seaborn as sns\n",
        "from scipy import stats\n",
        "%matplotlib inline\n",
        "\n",
        "df_rides=pd.read_csv(\"https://catolicasc.sharepoint.com/sites/82606_1237_2/_layouts/15/download.aspx?UniqueId=76013003-5492-4e3a-993d-c8214a1f04dd&Translate=false&tempauth=eyJ0eXAiOiJKV1QiLCJhbGciOiJub25lIn0.eyJhdWQiOiIwMDAwMDAwMy0wMDAwLTBmZjEtY2UwMC0wMDAwMDAwMDAwMDAvY2F0b2xpY2FzYy5zaGFyZXBvaW50LmNvbUAxYjhhZWQ0NC1hN2QwLTQwOWMtOTc5Ni1iMjY0NTk0OTg2YTAiLCJpc3MiOiIwMDAwMDAwMy0wMDAwLTBmZjEtY2UwMC0wMDAwMDAwMDAwMDAiLCJuYmYiOiIxNjYzMTExNTU0IiwiZXhwIjoiMTY2MzExNTE1NCIsImVuZHBvaW50dXJsIjoibjFHMnVrL29Fa2tHTVUreGhpTG5RNU1DY0pyQ1E0ZFkzT2d0dTdIY2RpTT0iLCJlbmRwb2ludHVybExlbmd0aCI6IjE0MCIsImlzbG9vcGJhY2siOiJUcnVlIiwiY2lkIjoiTmpZeE1qYzBPVGt0TUdSa1l5MDBNV1JsTFRoa01HUXRZVGhsWmpWbU9EUTFaVEptIiwidmVyIjoiaGFzaGVkcHJvb2Z0b2tlbiIsInNpdGVpZCI6Ik1EZzFNREk0WWpZdFptRmlZaTAwTUdJMkxXSXpORGt0TmpBellqSTJaamd4WVRsaCIsImFwcF9kaXNwbGF5bmFtZSI6Ik1pY3Jvc29mdCBUZWFtcyBXZWIgQ2xpZW50IiwiZ2l2ZW5fbmFtZSI6IlZJTsONQ0lVUyIsImZhbWlseV9uYW1lIjoiU1BFQ0siLCJzaWduaW5fc3RhdGUiOiJbXCJrbXNpXCJdIiwiYXBwaWQiOiI1ZTNjZTZjMC0yYjFmLTQyODUtOGQ0Yi03NWVlNzg3ODczNDYiLCJ0aWQiOiIxYjhhZWQ0NC1hN2QwLTQwOWMtOTc5Ni1iMjY0NTk0OTg2YTAiLCJ1cG4iOiJ2aW5pY2l1cy5zcGVja0BjYXRvbGljYXNjLmVkdS5iciIsInB1aWQiOiIxMDAzMjAwMDVBN0RFMUJDIiwiY2FjaGVrZXkiOiIwaC5mfG1lbWJlcnNoaXB8MTAwMzIwMDA1YTdkZTFiY0BsaXZlLmNvbSIsInNjcCI6ImFsbGZpbGVzLndyaXRlIGdyb3VwLnJlYWQgYWxsc2l0ZXMud3JpdGUiLCJ0dCI6IjIiLCJ1c2VQZXJzaXN0ZW50Q29va2llIjpudWxsLCJpcGFkZHIiOiIyMC4xOTAuMTczLjI1In0.UjBUc3ZvZ1ZFRWZkQnFUUTIwd0tET2dndUlFRTNqZVpnWmcvaWFYbktzZz0&ApiVersion=2.0\")"
      ],
      "metadata": {
        "id": "MYvwQ3RkNytN"
      },
      "execution_count": 129,
      "outputs": []
    },
    {
      "cell_type": "markdown",
      "source": [
        "3) Utilizando a função `head()` para ver as 5 primeiras entradas"
      ],
      "metadata": {
        "id": "Do8sd-45OFiU"
      }
    },
    {
      "cell_type": "code",
      "source": [
        "df_rides.head()"
      ],
      "metadata": {
        "colab": {
          "base_uri": "https://localhost:8080/",
          "height": 206
        },
        "id": "CPQJOOo0OF1k",
        "outputId": "0ef0c6ac-933f-401d-f1a1-788c2413004b"
      },
      "execution_count": 130,
      "outputs": [
        {
          "output_type": "execute_result",
          "data": {
            "text/plain": [
              "  user_gender user_birthdate user_residence   ride_date time_start  time_end  \\\n",
              "0           M     1971-06-08            NaN  2018-01-01   06:05:18  06:21:33   \n",
              "1           M     1989-02-11             DF  2018-01-01   06:27:01  06:32:17   \n",
              "2           M     1968-07-19            NaN  2018-01-01   06:29:33  06:44:57   \n",
              "3           M     1991-12-19            NaN  2018-01-01   06:53:53  06:59:45   \n",
              "4           M     1969-03-03             DF  2018-01-01   06:58:56  17:40:04   \n",
              "\n",
              "                     station_start  \\\n",
              "0                11 - Rodoviária 2   \n",
              "1         26 - Ministério da Saude   \n",
              "2                11 - Rodoviária 2   \n",
              "3  10 - Ministério dos Transportes   \n",
              "4                   15 - Brasil 21   \n",
              "\n",
              "                                         station_end  ride_duration  ride_late  \n",
              "0                            41 - Instituto de Artes      16.250000        0.0  \n",
              "1  28 - CNMP - Conselho Nacional do Ministério Pú...       5.266667        0.0  \n",
              "2                            43 - Biblioteca Central      15.400000        0.0  \n",
              "3                                     6 - Rodoviária       5.866667        0.0  \n",
              "4                                  11 - Rodoviária 2     641.133333        1.0  "
            ],
            "text/html": [
              "\n",
              "  <div id=\"df-b7dfa885-94c0-4e73-a50d-f9786c1357b0\">\n",
              "    <div class=\"colab-df-container\">\n",
              "      <div>\n",
              "<style scoped>\n",
              "    .dataframe tbody tr th:only-of-type {\n",
              "        vertical-align: middle;\n",
              "    }\n",
              "\n",
              "    .dataframe tbody tr th {\n",
              "        vertical-align: top;\n",
              "    }\n",
              "\n",
              "    .dataframe thead th {\n",
              "        text-align: right;\n",
              "    }\n",
              "</style>\n",
              "<table border=\"1\" class=\"dataframe\">\n",
              "  <thead>\n",
              "    <tr style=\"text-align: right;\">\n",
              "      <th></th>\n",
              "      <th>user_gender</th>\n",
              "      <th>user_birthdate</th>\n",
              "      <th>user_residence</th>\n",
              "      <th>ride_date</th>\n",
              "      <th>time_start</th>\n",
              "      <th>time_end</th>\n",
              "      <th>station_start</th>\n",
              "      <th>station_end</th>\n",
              "      <th>ride_duration</th>\n",
              "      <th>ride_late</th>\n",
              "    </tr>\n",
              "  </thead>\n",
              "  <tbody>\n",
              "    <tr>\n",
              "      <th>0</th>\n",
              "      <td>M</td>\n",
              "      <td>1971-06-08</td>\n",
              "      <td>NaN</td>\n",
              "      <td>2018-01-01</td>\n",
              "      <td>06:05:18</td>\n",
              "      <td>06:21:33</td>\n",
              "      <td>11 - Rodoviária 2</td>\n",
              "      <td>41 - Instituto de Artes</td>\n",
              "      <td>16.250000</td>\n",
              "      <td>0.0</td>\n",
              "    </tr>\n",
              "    <tr>\n",
              "      <th>1</th>\n",
              "      <td>M</td>\n",
              "      <td>1989-02-11</td>\n",
              "      <td>DF</td>\n",
              "      <td>2018-01-01</td>\n",
              "      <td>06:27:01</td>\n",
              "      <td>06:32:17</td>\n",
              "      <td>26 - Ministério da Saude</td>\n",
              "      <td>28 - CNMP - Conselho Nacional do Ministério Pú...</td>\n",
              "      <td>5.266667</td>\n",
              "      <td>0.0</td>\n",
              "    </tr>\n",
              "    <tr>\n",
              "      <th>2</th>\n",
              "      <td>M</td>\n",
              "      <td>1968-07-19</td>\n",
              "      <td>NaN</td>\n",
              "      <td>2018-01-01</td>\n",
              "      <td>06:29:33</td>\n",
              "      <td>06:44:57</td>\n",
              "      <td>11 - Rodoviária 2</td>\n",
              "      <td>43 - Biblioteca Central</td>\n",
              "      <td>15.400000</td>\n",
              "      <td>0.0</td>\n",
              "    </tr>\n",
              "    <tr>\n",
              "      <th>3</th>\n",
              "      <td>M</td>\n",
              "      <td>1991-12-19</td>\n",
              "      <td>NaN</td>\n",
              "      <td>2018-01-01</td>\n",
              "      <td>06:53:53</td>\n",
              "      <td>06:59:45</td>\n",
              "      <td>10 - Ministério dos Transportes</td>\n",
              "      <td>6 - Rodoviária</td>\n",
              "      <td>5.866667</td>\n",
              "      <td>0.0</td>\n",
              "    </tr>\n",
              "    <tr>\n",
              "      <th>4</th>\n",
              "      <td>M</td>\n",
              "      <td>1969-03-03</td>\n",
              "      <td>DF</td>\n",
              "      <td>2018-01-01</td>\n",
              "      <td>06:58:56</td>\n",
              "      <td>17:40:04</td>\n",
              "      <td>15 - Brasil 21</td>\n",
              "      <td>11 - Rodoviária 2</td>\n",
              "      <td>641.133333</td>\n",
              "      <td>1.0</td>\n",
              "    </tr>\n",
              "  </tbody>\n",
              "</table>\n",
              "</div>\n",
              "      <button class=\"colab-df-convert\" onclick=\"convertToInteractive('df-b7dfa885-94c0-4e73-a50d-f9786c1357b0')\"\n",
              "              title=\"Convert this dataframe to an interactive table.\"\n",
              "              style=\"display:none;\">\n",
              "        \n",
              "  <svg xmlns=\"http://www.w3.org/2000/svg\" height=\"24px\"viewBox=\"0 0 24 24\"\n",
              "       width=\"24px\">\n",
              "    <path d=\"M0 0h24v24H0V0z\" fill=\"none\"/>\n",
              "    <path d=\"M18.56 5.44l.94 2.06.94-2.06 2.06-.94-2.06-.94-.94-2.06-.94 2.06-2.06.94zm-11 1L8.5 8.5l.94-2.06 2.06-.94-2.06-.94L8.5 2.5l-.94 2.06-2.06.94zm10 10l.94 2.06.94-2.06 2.06-.94-2.06-.94-.94-2.06-.94 2.06-2.06.94z\"/><path d=\"M17.41 7.96l-1.37-1.37c-.4-.4-.92-.59-1.43-.59-.52 0-1.04.2-1.43.59L10.3 9.45l-7.72 7.72c-.78.78-.78 2.05 0 2.83L4 21.41c.39.39.9.59 1.41.59.51 0 1.02-.2 1.41-.59l7.78-7.78 2.81-2.81c.8-.78.8-2.07 0-2.86zM5.41 20L4 18.59l7.72-7.72 1.47 1.35L5.41 20z\"/>\n",
              "  </svg>\n",
              "      </button>\n",
              "      \n",
              "  <style>\n",
              "    .colab-df-container {\n",
              "      display:flex;\n",
              "      flex-wrap:wrap;\n",
              "      gap: 12px;\n",
              "    }\n",
              "\n",
              "    .colab-df-convert {\n",
              "      background-color: #E8F0FE;\n",
              "      border: none;\n",
              "      border-radius: 50%;\n",
              "      cursor: pointer;\n",
              "      display: none;\n",
              "      fill: #1967D2;\n",
              "      height: 32px;\n",
              "      padding: 0 0 0 0;\n",
              "      width: 32px;\n",
              "    }\n",
              "\n",
              "    .colab-df-convert:hover {\n",
              "      background-color: #E2EBFA;\n",
              "      box-shadow: 0px 1px 2px rgba(60, 64, 67, 0.3), 0px 1px 3px 1px rgba(60, 64, 67, 0.15);\n",
              "      fill: #174EA6;\n",
              "    }\n",
              "\n",
              "    [theme=dark] .colab-df-convert {\n",
              "      background-color: #3B4455;\n",
              "      fill: #D2E3FC;\n",
              "    }\n",
              "\n",
              "    [theme=dark] .colab-df-convert:hover {\n",
              "      background-color: #434B5C;\n",
              "      box-shadow: 0px 1px 3px 1px rgba(0, 0, 0, 0.15);\n",
              "      filter: drop-shadow(0px 1px 2px rgba(0, 0, 0, 0.3));\n",
              "      fill: #FFFFFF;\n",
              "    }\n",
              "  </style>\n",
              "\n",
              "      <script>\n",
              "        const buttonEl =\n",
              "          document.querySelector('#df-b7dfa885-94c0-4e73-a50d-f9786c1357b0 button.colab-df-convert');\n",
              "        buttonEl.style.display =\n",
              "          google.colab.kernel.accessAllowed ? 'block' : 'none';\n",
              "\n",
              "        async function convertToInteractive(key) {\n",
              "          const element = document.querySelector('#df-b7dfa885-94c0-4e73-a50d-f9786c1357b0');\n",
              "          const dataTable =\n",
              "            await google.colab.kernel.invokeFunction('convertToInteractive',\n",
              "                                                     [key], {});\n",
              "          if (!dataTable) return;\n",
              "\n",
              "          const docLinkHtml = 'Like what you see? Visit the ' +\n",
              "            '<a target=\"_blank\" href=https://colab.research.google.com/notebooks/data_table.ipynb>data table notebook</a>'\n",
              "            + ' to learn more about interactive tables.';\n",
              "          element.innerHTML = '';\n",
              "          dataTable['output_type'] = 'display_data';\n",
              "          await google.colab.output.renderOutput(dataTable, element);\n",
              "          const docLink = document.createElement('div');\n",
              "          docLink.innerHTML = docLinkHtml;\n",
              "          element.appendChild(docLink);\n",
              "        }\n",
              "      </script>\n",
              "    </div>\n",
              "  </div>\n",
              "  "
            ]
          },
          "metadata": {},
          "execution_count": 130
        }
      ]
    },
    {
      "cell_type": "markdown",
      "source": [
        "4) Verificando a porcentagem de valores nulos na coluna user_gender, utilizando as funções `isnull()` para pegar os nulos e `sum()` para somá-los. O valor é dividido pelo total de entradas e multiplicado por 100. Nesse caso, aproximadamente 0.14% dos valores da coluna estão nulos."
      ],
      "metadata": {
        "id": "diTMBgkZObHs"
      }
    },
    {
      "cell_type": "code",
      "source": [
        "(df_rides.user_gender.isnull().sum()/df_rides.shape[0])*100"
      ],
      "metadata": {
        "colab": {
          "base_uri": "https://localhost:8080/"
        },
        "id": "qUeSFIlPObhf",
        "outputId": "11ac0117-8d34-4cd7-d013-f54975bd818a"
      },
      "execution_count": 131,
      "outputs": [
        {
          "output_type": "execute_result",
          "data": {
            "text/plain": [
              "0.13782446175371188"
            ]
          },
          "metadata": {},
          "execution_count": 131
        }
      ]
    },
    {
      "cell_type": "markdown",
      "source": [
        "5) Utilizando a função `mode()` para descobrir o valor que ocorre com mais frequência na coluna (moda). Nesse caso, o valor mais frequente é M, e então a coluna é preenchida com esse valor"
      ],
      "metadata": {
        "id": "anlbWeGjPmu7"
      }
    },
    {
      "cell_type": "code",
      "source": [
        "df_rides.user_gender=df_rides.user_gender.mode()"
      ],
      "metadata": {
        "id": "o1nn8XNxPnBy"
      },
      "execution_count": 132,
      "outputs": []
    },
    {
      "cell_type": "markdown",
      "source": [
        "6) Exibindo a coluna ride_duration em BoxPlot usando o parâmetro `kind='box'` dentro da função `plot()`. Além dos parâmetros `vert=False` para formatar horizontalmente e `figsize=(15,3)` para dimensionar o gráfico. A função `plt.show()` chamada do *Matplotlib* mostra o gráfico criado."
      ],
      "metadata": {
        "id": "oNoWmtw9QHln"
      }
    },
    {
      "cell_type": "code",
      "source": [
        "df_rides.ride_duration.plot(kind='box', vert=False, figsize=(15,3))\n",
        "plt.show()"
      ],
      "metadata": {
        "colab": {
          "base_uri": "https://localhost:8080/",
          "height": 211
        },
        "id": "L4H6V8GXQH46",
        "outputId": "b24a4bd5-c6dd-4c7a-9787-f32bc067085e"
      },
      "execution_count": 133,
      "outputs": [
        {
          "output_type": "display_data",
          "data": {
            "text/plain": [
              "<Figure size 1080x216 with 1 Axes>"
            ],
            "image/png": "[encoded data removed]"
          },
          "metadata": {
            "needs_background": "light"
          }
        }
      ]
    }
  ]
}