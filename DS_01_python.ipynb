{
  "nbformat": 4,
  "nbformat_minor": 0,
  "metadata": {
    "colab": {
      "name": "DS-01-python.ipynb",
      "provenance": [],
      "collapsed_sections": [],
      "authorship_tag": "ABX9TyPFWUr06ry07dAgKLocxtCK",
      "include_colab_link": true
    },
    "kernelspec": {
      "name": "python3",
      "display_name": "Python 3"
    },
    "language_info": {
      "name": "python"
    }
  },
  "cells": [
    {
      "cell_type": "markdown",
      "metadata": {
        "id": "view-in-github",
        "colab_type": "text"
      },
      "source": [
        "<a href=\"https://colab.research.google.com/github/ViniSpeck/DS/blob/main/DS_01_python.ipynb\" target=\"_parent\"><img src=\"https://colab.research.google.com/assets/colab-badge.svg\" alt=\"Open In Colab\"/></a>"
      ]
    },
    {
      "cell_type": "code",
      "source": [
        "\n"
      ],
      "metadata": {
        "id": "w_U7coSK4NOs"
      },
      "execution_count": null,
      "outputs": []
    },
    {
      "cell_type": "markdown",
      "source": [
        "For"
      ],
      "metadata": {
        "id": "U3TBkno25c5h"
      }
    },
    {
      "cell_type": "code",
      "execution_count": null,
      "metadata": {
        "id": "eSEKGOEfvyTg"
      },
      "outputs": [],
      "source": [
        "x=range(1,6)\n",
        "for i in x:\n",
        "  print(\"valor de i=\",i)\n",
        "  for j in x:\n",
        "    print(\"valor de j=\",j,\"x+1=\",j+i)\n",
        "  print(\"fim loop j\")\n",
        "print(\"fim loop i\")"
      ]
    },
    {
      "cell_type": "markdown",
      "source": [
        "List"
      ],
      "metadata": {
        "id": "phvF0bt55cpJ"
      }
    },
    {
      "cell_type": "code",
      "source": [
        "lista1=[\"Xunda\",\"Bastião\",\"Catatau\",\"Babalu\",\"Tico\"]\n",
        "#print(lista1[0])\n",
        "\n",
        "lista2=[\n",
        "    [\"Xunda\",\"Bastião\",\"Babalu\"],\n",
        "    [10,6.5,9],\n",
        "    [\"Aprovado\",\"Reprovado\",\"Aprovado\"]\n",
        "]\n",
        "print(lista2[0][0],lista2[1][0],lista2[2][0])\n"
      ],
      "metadata": {
        "id": "0ZrzBB2f0uyW"
      },
      "execution_count": null,
      "outputs": []
    },
    {
      "cell_type": "markdown",
      "source": [
        "Multiline"
      ],
      "metadata": {
        "id": "uv-nJAgy5cx6"
      }
    },
    {
      "cell_type": "code",
      "source": [
        "idade=[18,56,23,45,123,45,123,56,23,76,45]\n",
        "soma=sum(idade)\n",
        "media=\\\n",
        "soma/\\\n",
        "len(idade)\n",
        "print(\"A média é de {:.2f}, sendo que a soma é {}\".format(media,soma))"
      ],
      "metadata": {
        "colab": {
          "base_uri": "https://localhost:8080/"
        },
        "id": "Q8Zs9Lfw5UAT",
        "outputId": "b31643c0-6b44-4796-8f80-c0869eee031c"
      },
      "execution_count": 45,
      "outputs": [
        {
          "output_type": "stream",
          "name": "stdout",
          "text": [
            "A média é de 57.55, sendo que a soma é 633\n"
          ]
        }
      ]
    },
    {
      "cell_type": "markdown",
      "source": [
        "Division (when using Python 2, import __future__ module)"
      ],
      "metadata": {
        "id": "-VCHikWF7xvB"
      }
    },
    {
      "cell_type": "code",
      "source": [
        "from __future__ import division\n",
        "print(5/2)"
      ],
      "metadata": {
        "colab": {
          "base_uri": "https://localhost:8080/"
        },
        "id": "ymIatZxv7u_N",
        "outputId": "acd95734-6db3-4c4d-e214-a8920bc4c5f2"
      },
      "execution_count": 42,
      "outputs": [
        {
          "output_type": "stream",
          "name": "stdout",
          "text": [
            "2.5\n"
          ]
        }
      ]
    },
    {
      "cell_type": "markdown",
      "source": [
        "Functions and comments"
      ],
      "metadata": {
        "id": "_8Gj6aPE8wu5"
      }
    },
    {
      "cell_type": "code",
      "source": [
        "#multiline comment\n",
        "'''\n",
        "as\n",
        "as\n",
        "as\n",
        "as\n",
        "'''\n",
        "value=1234\n",
        "\n",
        "def voltarDobro(numero):\n",
        "  dobro=numero*2\n",
        "  return dobro\n",
        "\n",
        "#single line comment\n",
        "#print(\"O dobro de {} é {}\".format(value,voltarDobro(value)))\n",
        "\n",
        "def executarFuncao(func):\n",
        "  return func(value)\n",
        "\n",
        "varFunc=voltarDobro\n",
        "\n",
        "print(executarFuncao(varFunc))"
      ],
      "metadata": {
        "colab": {
          "base_uri": "https://localhost:8080/"
        },
        "id": "lUWTqypI8wMg",
        "outputId": "74ab85fe-f82e-4ce1-9a40-72376a8deb58"
      },
      "execution_count": 57,
      "outputs": [
        {
          "output_type": "stream",
          "name": "stdout",
          "text": [
            "2468\n"
          ]
        }
      ]
    }
  ]
}